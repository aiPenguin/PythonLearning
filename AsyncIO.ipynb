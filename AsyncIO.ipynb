{
 "cells": [
  {
   "cell_type": "markdown",
   "metadata": {},
   "source": [
    "## 可迭代对象"
   ]
  },
  {
   "cell_type": "code",
   "execution_count": null,
   "metadata": {},
   "outputs": [],
   "source": [
    "iterable = '可迭代对象'\n",
    "for x in iterable:\n",
    "    print(x)"
   ]
  },
  {
   "cell_type": "code",
   "execution_count": null,
   "metadata": {},
   "outputs": [],
   "source": [
    "# 常见的可送代对象\n",
    "iterables = [\n",
    "    \"123\",              # 字符串\n",
    "    [1, 2, 3],          # 列表\n",
    "    (1, 2, 3),          # 元组\n",
    "    {1: 'a', 2: 'b'},   # 字典\n",
    "    {1, 2, 3},          # 集合\n",
    "]\n",
    "for iterable in iterables:\n",
    "    print(type(iterable))\n",
    "    for x in iterable:\n",
    "        print(x, end=', ')\n",
    "    print('')\n"
   ]
  },
  {
   "cell_type": "markdown",
   "metadata": {},
   "source": [
    "### 可迭代对象的接口\n"
   ]
  },
  {
   "cell_type": "code",
   "execution_count": null,
   "metadata": {},
   "outputs": [],
   "source": [
    "def common_attrs(*objs):  # *objs 多余参数存进名为objs的元组，**kwobjs 多余参数存进名为kwobjs的字典 使用函数时在变量前加*或**表示用元组或字典的方式解析参量\n",
    "    \"\"\"计算对象之间的共同属性\"\"\"\n",
    "    assert len(objs) > 0\n",
    "    attrs = set(dir(objs[0]))\n",
    "    for obj in objs[1:]:\n",
    "        attrs &= set(dir(obj))      # 取交集\n",
    "    attrs -= set(dir(object))       # 剔除基础对象属性\n",
    "    return attrs"
   ]
  },
  {
   "cell_type": "code",
   "execution_count": null,
   "metadata": {},
   "outputs": [],
   "source": [
    "# 计算可迭代对象属性\n",
    "iterable_common_attrs = common_attrs(*iterables)\n",
    "\n",
    "print(iterable_common_attrs)"
   ]
  },
  {
   "cell_type": "code",
   "execution_count": null,
   "metadata": {},
   "outputs": [],
   "source": [
    "# 文件对象也是可迭代对象\n",
    "f = open('AsyncIO.ipynb','r')\n",
    "\n",
    "# 加入到可迭代对象清单中\n",
    "iterables.append(f)\n",
    "\n",
    "# 继续求一次交集\n",
    "iterable_common_attrs &= set(dir(f))\n",
    "print(iterable_common_attrs)"
   ]
  },
  {
   "cell_type": "markdown",
   "metadata": {},
   "source": [
    "`__iter__` 方法，对应的调用方法就是内置函数 `iter()`"
   ]
  },
  {
   "cell_type": "code",
   "execution_count": null,
   "metadata": {},
   "outputs": [],
   "source": [
    "for iterable in iterables:\n",
    "    print(iter(iterable))"
   ]
  },
  {
   "cell_type": "markdown",
   "metadata": {},
   "source": [
    "### 迭代器的接口"
   ]
  },
  {
   "cell_type": "code",
   "execution_count": null,
   "metadata": {},
   "outputs": [],
   "source": [
    "# 由可迭代对象得到相应的迭代器列表\n",
    "iterators = [iter(iterable) for iterable in iterables]\n",
    "\n",
    "# 计算属性\n",
    "iterator_common_attrs = common_attrs(*iterators)\n",
    "\n",
    "print(iterator_common_attrs)"
   ]
  },
  {
   "cell_type": "markdown",
   "metadata": {},
   "source": [
    "「迭代器」有两个接口：`__iter__` & `__next__`"
   ]
  },
  {
   "cell_type": "markdown",
   "metadata": {},
   "source": [
    "### 迭代器的用法"
   ]
  },
  {
   "cell_type": "code",
   "execution_count": null,
   "metadata": {},
   "outputs": [],
   "source": [
    "actions = ['点赞', '投币', '收藏']      # 可迭代对象\n",
    "\n",
    "action_iterator = iter(actions)      # 第一步：构建迭代器"
   ]
  },
  {
   "cell_type": "code",
   "execution_count": null,
   "metadata": {},
   "outputs": [],
   "source": [
    "# 第二步：多次迭代\n",
    "action = next(action_iterator)      # 运行3次\n",
    "print(action)"
   ]
  },
  {
   "cell_type": "code",
   "execution_count": null,
   "metadata": {},
   "outputs": [],
   "source": [
    "# 第三步：迭代结束\n",
    "action = next(action_iterator)      # 运行3次\n",
    "print(action)"
   ]
  },
  {
   "cell_type": "markdown",
   "metadata": {},
   "source": [
    "### 已知的迭代的三个步骤\n",
    "1. 调用 `iter(iterable)` 来构建迭代器\n",
    "2. （多次）调用 `next(iterator)` 来获取值\n",
    "3. 最后捕获 `StopIteration` 异常来判断迭代结束"
   ]
  },
  {
   "cell_type": "code",
   "execution_count": null,
   "metadata": {},
   "outputs": [],
   "source": [
    "## 用 while 循环模拟 for 循环迭代\n",
    "\n",
    "# 创建迭代器\n",
    "iterator = iter(actions)        # 对应可迭代对象的 __iter__ 方法\n",
    "while True:\n",
    "    try:\n",
    "        # 通过迭代器获取下一个对象\n",
    "        print(next(iterator))   # 对应迭代器的 __next__ 方法\n",
    "    except StopIteration:       # 捕获异常来判断结束\n",
    "        # print('迭代结束')\n",
    "        break"
   ]
  },
  {
   "cell_type": "markdown",
   "metadata": {},
   "source": [
    "## 自定义迭代器\n",
    "### 迭代器的基本功能：\n",
    "- 初始化时要传入可迭代对象，这样才能知道去哪取数据\n",
    "- 要初始化迭代进度\n",
    "- 每次迭代时，即每次调用 `__next__()` 方法时：\n",
    "  - 如果仍有元素可供迭代，则返回本轮迭代的元素，同时更新当前迭代进度\n",
    "  - 如果已无元素可供返回，则迭代结束，抛出 `StopIteration` 异常\n"
   ]
  },
  {
   "cell_type": "markdown",
   "metadata": {},
   "source": [
    "### 在添加一点额外的逻辑:\n",
    "- 设置一个黑名单，如果当前元素在黑名单内，则跳过\n",
    "- 将某些符合条件的数据 `*2` 之后再返回"
   ]
  },
  {
   "cell_type": "code",
   "execution_count": null,
   "metadata": {},
   "outputs": [],
   "source": [
    "BLACKLIST = ['白嫖','取关']\n",
    "\n",
    "\n",
    "class SuzhiIterator:\n",
    "    def __init__(self, action):\n",
    "        self.actions = actions\n",
    "        self.index = 0              # 初始化索引下标\n",
    "\n",
    "    def __next__(self):\n",
    "        while self.index < len(self.actions):\n",
    "            action = self.actions[self.index]\n",
    "            self.index += 1         # 更新索引下标\n",
    "            if action in BLACKLIST:\n",
    "                continue\n",
    "            elif '币' in action:\n",
    "                return action * 2\n",
    "            else:\n",
    "                return action\n",
    "        raise StopIteration\n",
    "\n",
    "\n",
    "actions = ['点赞', '投币', '取关']\n",
    "sz_iterator = SuzhiIterator(actions)\n",
    "while True:\n",
    "    try:\n",
    "        print(next(sz_iterator))\n",
    "    except StopIteration:\n",
    "        break"
   ]
  },
  {
   "cell_type": "code",
   "execution_count": null,
   "metadata": {},
   "outputs": [],
   "source": [
    "## for 循环需要的是「可迭代对象」而不是「迭代器」\n",
    "\n",
    "for x in SuzhiIterator(actions):\n",
    "    print(x)"
   ]
  },
  {
   "cell_type": "code",
   "execution_count": null,
   "metadata": {},
   "outputs": [],
   "source": [
    "## 一个没有意义的可迭代对象\n",
    "\n",
    "class SuzhiActions:\n",
    "    def __init__(self,actions):\n",
    "        self.actions = actions\n",
    "\n",
    "    def __iter__(self):\n",
    "        return SuzhiIterator(self.actions)\n",
    "\n",
    "\n",
    "for x in SuzhiActions(actions):\n",
    "    print(x)"
   ]
  },
  {
   "cell_type": "code",
   "execution_count": null,
   "metadata": {},
   "outputs": [],
   "source": [
    "class SuzhiIterator:\n",
    "    def __init__(self, action):\n",
    "        self.actions = actions\n",
    "        self.index = 0              # 初始化索引下标\n",
    "\n",
    "    def __next__(self):\n",
    "        while self.index < len(self.actions):\n",
    "            action = self.actions[self.index]\n",
    "            self.index += 1         # 更新索引下标\n",
    "            if action in BLACKLIST:\n",
    "                continue\n",
    "            elif '币' in action:\n",
    "                return action * 2\n",
    "            else:\n",
    "                return action\n",
    "        raise StopIteration\n",
    "\n",
    "    def __iter__(self):\n",
    "        return self"
   ]
  },
  {
   "cell_type": "code",
   "execution_count": null,
   "metadata": {},
   "outputs": [],
   "source": [
    "## 「迭代器」也是「可迭代对象」\n",
    "\n",
    "for x in SuzhiIterator(actions):\n",
    "    print(x)"
   ]
  },
  {
   "cell_type": "markdown",
   "metadata": {},
   "source": [
    "### 迭代器协议\n",
    "\n",
    "在 Python 文档中明确指出了，迭代器必须同时实现 `__next__` 和 `__iter__` 两个方法，这称之为「**迭代器协议**」。\n",
    "\n",
    "根据这个协议，迭代器**必须**是可迭代的，换言之，**「迭代器」是一种「可迭代对象」**。\n",
    "\n",
    "缺少了 `__iter__` 方法的迭代器是不完整的，不符合迭代器协议的要求。\n",
    "\n",
    "**所有**迭代器的 `__iter__` 方法都只要 `return self` 即可。"
   ]
  },
  {
   "cell_type": "markdown",
   "metadata": {},
   "source": [
    "## 浅层的意义\n",
    "\n",
    "- 统一通过 `next()` 方法获取数据，可以屏蔽底层不同的数据读取方式，简化编程\n",
    "- 容器类的数据结构只关心数据的静态存储，**每一次**迭代都需要额外的迭代器对象专门负责记录迭代过程中的**状态**信息\n",
    "\n",
    "按照这个思路，我们很容易形成这样的认知：\n",
    "\n",
    "迭代器就是为了让数据结构能够快捷地遍历而定义的**辅助**对象。\n",
    "\n",
    "但是别忘了，如果只是在 `while` 循环中使用，是无需用到迭代器的 `__iter__` 方法的：\n",
    "```\n",
    "actions = ['点赞', '投币', '取关']\n",
    "sz_iterator = SuzhiIterator(actions)\n",
    "while True:\n",
    "    try:\n",
    "        print(next(sz_iterator))\n",
    "    except StopIteration:\n",
    "        break\n",
    "```"
   ]
  },
  {
   "cell_type": "code",
   "execution_count": null,
   "metadata": {},
   "outputs": [],
   "source": [
    "for iterable in iterables:\n",
    "    print(iter(iterable))"
   ]
  },
  {
   "cell_type": "markdown",
   "metadata": {},
   "source": [
    "## 深层的意义\n",
    "### 现在有两种可迭代对象：\n",
    "- 容器类型的\n",
    "  - 列表、元组、字典等\n",
    "  - 只有 `__iter__` 接口\n",
    "  - 静态的数据\n",
    "  - 需要额外的迭代器支持\n",
    "  - 支持多次迭代\n",
    "- 迭代器类型\n",
    "  - 文件、StringlO等\n",
    "  - 同时实现 `__iter__` 和 `__next__` 接口\n",
    "  - 动态的\n",
    "  - 只能迭代一次"
   ]
  },
  {
   "cell_type": "code",
   "execution_count": null,
   "metadata": {},
   "outputs": [],
   "source": [
    "## 针对容器类可迭代对象的循环\n",
    "\n",
    "for x in iterable:      # 背后操作：「可迭代对象」-> 「迭代器」\n",
    "    pass"
   ]
  },
  {
   "cell_type": "markdown",
   "metadata": {},
   "source": [
    "此种情况下，只有可迭代对象在前台露脸。\n",
    "\n",
    "而迭代器是在背后使用默认的方式“悄悄”构建的，没有存在感，并且生命周期是和循环操作本身绑定在一起的。"
   ]
  },
  {
   "cell_type": "markdown",
   "metadata": {},
   "source": [
    "而一旦迭代器实现了 `__iter__` 方法："
   ]
  },
  {
   "cell_type": "code",
   "execution_count": null,
   "metadata": {},
   "outputs": [],
   "source": [
    "## 针对迭代器的循环\n",
    "\n",
    "iterator = iter(iterable)       # 迭代器的构建过程远离循环存在\n",
    "\n",
    "...\n",
    "\n",
    "for x in iterator:              # 背后操作：「迭代器」->「迭代器」（self）\n",
    "    pass"
   ]
  },
  {
   "cell_type": "markdown",
   "metadata": {},
   "source": [
    "现在整个迭代过程只需要迭代器就够了！\n",
    "\n",
    "迭代器不光是从后台走向了前台，而且直接让可迭代对象远离了循环！\n",
    "\n",
    "现在，迭代器的构建是在明面上单独完成的，和当前循环操作**解耦**了。\n",
    "\n",
    "于是乎：\n",
    "- 一个可迭代对象可以构建出任意多个不同的迭代器\n",
    "- 一种迭代器可以应用于任意多个可迭代对象（包括其它迭代器）"
   ]
  },
  {
   "cell_type": "markdown",
   "metadata": {},
   "source": [
    "## 数据管道\n",
    "\n",
    "如果迭代器不可迭代：\n",
    "\n",
    "「for 循环」<-「迭代器（隐藏）」<-「可迭代对象」\n",
    "\n",
    "如果迭代器可以任意的嵌套链接：\n",
    "\n",
    "「for 循环」<-「迭代器」<-「迭代器」<-...<-「迭代器」<-「可迭代对象」\n",
    "\n",
    "- 很多个迭代器串联起来，形成一个**处理数据的管道**，或者称为**数据流**\n",
    "- 在这个管道中，每一次只通过一份数据，避免了一次性加载所有数据\n",
    "- 迭代器也不仅仅只是按顺序返回数据那么简单了，它开始承担**处理数据**的责任\n",
    "  - 例如，`SuzhiIterator` 实际实现了部分过滤器和放大器的功能。\n",
    "- 当通过迭代器获取数据的时候，远离了数据存储，渐渐地开始**不关心数据到底是怎么存储的**。"
   ]
  },
  {
   "cell_type": "markdown",
   "metadata": {},
   "source": [
    "## 附录：没有定义 `__iter__` 的可迭代对象\n",
    "\n",
    "并不是所有的可迭代对象都必须定义有 `__iter__` 方法。\n",
    "\n",
    "如果一个对象没有 `__iter__` 方法，但是定义了 `__getitem__` 方法，同样是可以迭\n",
    "代的。\n",
    "\n",
    "因此，不能通过检查 `__iter__` 方法来判断一个对象是否是可迭代的，而是应该直接使用  `iter()` 函数，如果不可迭代，则会抛出 `TypeError` 异常。"
   ]
  },
  {
   "cell_type": "code",
   "execution_count": null,
   "metadata": {},
   "outputs": [],
   "source": [
    "class DumbList:\n",
    "    def __getitem__(self,index):\n",
    "        if index > 5:\n",
    "            raise StopIteration\n",
    "            return index * 2\n",
    "\n",
    "\n",
    "dl = DumbList()\n",
    "for x in dl:\n",
    "    print(x)"
   ]
  },
  {
   "cell_type": "code",
   "execution_count": null,
   "metadata": {},
   "outputs": [],
   "source": [
    "class NotIterable:\n",
    "    pass\n",
    "\n",
    "\n",
    "ni = NotIterable()\n",
    "it = iter(ni)"
   ]
  },
  {
   "cell_type": "markdown",
   "metadata": {},
   "source": [
    "## 什么是生成器\n",
    "### yield 很特别\n",
    "- 只能用在函数内\n",
    "- 在函数内热河地方出现了 `yield` 关键字，哪怕永远无法被执行到，函数都会发生变异"
   ]
  },
  {
   "cell_type": "code",
   "execution_count": null,
   "metadata": {},
   "outputs": [],
   "source": [
    "def gen():\n",
    "    print('hello')\n",
    "    if 0:\n",
    "        yield\n",
    "\n",
    "\n",
    "g = gen()\n",
    "print(g)"
   ]
  },
  {
   "cell_type": "markdown",
   "metadata": {},
   "source": [
    "调用函数 `gen()` 没有像普通函数那样执行其中的代码，而是返回了一个 `generator` 对象。"
   ]
  },
  {
   "cell_type": "code",
   "execution_count": null,
   "metadata": {},
   "outputs": [],
   "source": [
    "print(type(gen))\n",
    "print(type(g))"
   ]
  },
  {
   "cell_type": "code",
   "execution_count": null,
   "metadata": {},
   "outputs": [],
   "source": [
    "import inspect\n",
    "\n",
    "# 是函数，也是生成器\n",
    "print(inspect.isfunction(gen))\n",
    "print(inspect.isgeneratorfunction(gen))\n",
    "\n",
    "# 生成器函数不是 generator\n",
    "print(inspect.isgenerator(gen))     # False\n",
    "print(inspect.isgenerator(g))       # True"
   ]
  },
  {
   "cell_type": "markdown",
   "metadata": {},
   "source": [
    "## 术语概念\n",
    "\n",
    "通常，我们把含有 `yield` 的函数称之为「**生成器函数 generator function**]，把调用生成器函数返回的结果称为「**生成器 generator**」\n",
    "\n",
    "但是根据 Python 官方文档：\n",
    "> **generator 生成器**\n",
    ">\n",
    "> A function which returns a generator iterator.. —个返回生成器送代器的函数\n",
    ">\n",
    "> Usually refers to a generator function, but may refer to a generator iterator in some contexts. In cases where the intended meaning isnt clear, using the full terms avoids ambiguity 通常指的是生成器函数，但是在一定的语境下也可以指代生成器迭代器。为了避免使义，推荐使用完整的术语。\n",
    "\n",
    "> **generator iterator 生成器迭代器**\n",
    ">\n",
    "> An object created by a generator function.\n",
    ">\n",
    "> —个由生成器西数创建的对象。\n",
    "\n",
    "在不会产生岐义的情况下，提到「生成器」可能指的是函数，也可能是函数生成的对象，具体需要根据上下文判断。\n",
    "\n",
    "为了区分，我一般将「生成器函数」的返回结果称为「生成器对象」。\n",
    "\n",
    "这两者之间的关系将在稍后的技术内幕中详细解释。\n",
    "\n",
    "### 生成器是迭代器\n",
    "\n",
    "既然是迭代器，那么肯定要满足「迭代器协议」：\n",
    "- `__iter__`，返回迭代器对象自身\n",
    "- `__next__`，每次返回一个迭代数据，如果没有数据，则要抛出 `StopIteration` 异常"
   ]
  },
  {
   "cell_type": "code",
   "execution_count": null,
   "metadata": {},
   "outputs": [],
   "source": [
    "g = gen()\n",
    "hasattr(g, '__next__') and hasattr(g, '__iter__')"
   ]
  },
  {
   "cell_type": "code",
   "execution_count": null,
   "metadata": {},
   "outputs": [],
   "source": [
    "g is iter(g)"
   ]
  },
  {
   "cell_type": "markdown",
   "metadata": {},
   "source": [
    "## yield\n",
    "\n",
    "### 语句 or 表达式？\n",
    "- `yield` 语句\n",
    "  - PEP 252-Simple Generators\n",
    "  - Python 2.2\n",
    "- `yield` 表达式\n",
    "  - PEP 342-Coroutines via Enhanced Generators\n",
    "  - Python 2.5\n",
    "\n",
    "### `yield` 对函数做了什么\n",
    "\n",
    "`yield` 关键字最根本的作用是改变了函数的性质：\n",
    "1. 调用生成器函数不是直接执行其中的代码，而是返回一个对象。\n",
    "2. 生成器函数内的代码，需要通过生成器对象来执行。\n",
    "从这一点上说，生成器函数的作用和**类(class)**是差不多的。\n",
    "\n",
    "生成器对象就是迭代器，所以它的运行方式和迭代器是一致的：\n",
    "- 通过 `next()` 函数来调用\n",
    "- 每次 `next()` 都会在遇到 `yield` 后返回结果（作为 `next()` 的返回值）\n",
    "- 如果函数运行结束（即遇到 `return`）则抛出 `StopIteration` 异常"
   ]
  },
  {
   "cell_type": "markdown",
   "metadata": {},
   "source": [
    "### 简单示例1"
   ]
  },
  {
   "cell_type": "code",
   "execution_count": null,
   "metadata": {},
   "outputs": [],
   "source": [
    "# 定义一个生成器函数\n",
    "def gen_666(meet_yield):\n",
    "    print('hello')\n",
    "    if meet_yield:  # 是否遇到 yield 由参数控制\n",
    "        print('yield !')\n",
    "        yield 666\n",
    "        print('back!')\n",
    "    print('bye.')\n",
    "    return 'result'"
   ]
  },
  {
   "cell_type": "code",
   "execution_count": null,
   "metadata": {},
   "outputs": [],
   "source": [
    "g1 = gen_666(False)     # 不会遇到 yield\n",
    "x1 = next(g1)\n",
    "print(x1)"
   ]
  },
  {
   "cell_type": "code",
   "execution_count": null,
   "metadata": {},
   "outputs": [],
   "source": [
    "g2 = gen_666(True)      # 会遇到 yield\n",
    "x2 = next(g2)\n",
    "print(x2)\n",
    "next(g2)"
   ]
  },
  {
   "cell_type": "markdown",
   "metadata": {},
   "source": [
    "### 在循环中使用 `yield`\n",
    "只遭遇一次 `yield` 语句的生成器就是只能迭代一次的迭代器，通常没什么实用价值。\n",
    "\n",
    "要想能迭代多次，可以在函数内多次使用 `yield` 语句："
   ]
  },
  {
   "cell_type": "code",
   "execution_count": null,
   "metadata": {},
   "outputs": [],
   "source": [
    "def gen_func() :\n",
    "    print('--- yield 1 ---')\n",
    "    yield 1\n",
    "    print('--- yield 2 ---')\n",
    "    yield 2\n",
    "    print('--- yield 3 ---')\n",
    "    yield 3\n",
    "\n",
    "\n",
    "for x in gen_func():\n",
    "    print(x)"
   ]
  },
  {
   "cell_type": "markdown",
   "metadata": {},
   "source": [
    "相对应地，`yield` 一般也是搭配循环使用的："
   ]
  },
  {
   "cell_type": "code",
   "execution_count": null,
   "metadata": {},
   "outputs": [],
   "source": [
    "# itertools.count 示例\n",
    "def count(start=0, step=1):\n",
    "# count(10) --> 10 11 12 13 14\n",
    "# count(2.5, 0.5) -> 2.5 3.0 3.5\n",
    "    n =  start\n",
    "    while True:\n",
    "        yield n\n",
    "        n += step"
   ]
  },
  {
   "cell_type": "markdown",
   "metadata": {},
   "source": [
    "### 生成器的4个状态\n",
    "- 当调用生成器函数得到生成器对象时\n",
    "  - 此时的生成器对象可以理解为处于**初始**状态\n",
    "- 通过 `next()` 调用生成器对象，对应的生成器函数代码开始运行\n",
    "  - 此时生成器对象处于**运行中**状态\n",
    "- 如果遇到了 `yield` 语句，`next()` 返回时\n",
    "  - `yield` 语句右边的对象作为 `next()` 的返回值\n",
    "  - 生成器在 `yield` 语句所在的位置**暂停**，当再次使用 `next()` 时继续从该位置继续运行\n",
    "- 如果执行到函数结束，则抛出 `StopIteration` 异常\n",
    "  - 不管是使用了 `return` 语句显式地返回值，或者默认返回 `None` 值，返回值都只能作为异常的值一并抛出\n",
    "  - 此时的生成器对象处于**结束**的状态\n",
    "  - 对于已经结束的生成器对象再次调用 `next()`，直接抛出 `StopIteration` 异常，并且不含返回值"
   ]
  },
  {
   "cell_type": "markdown",
   "metadata": {},
   "source": [
    "### 用 `yield` 重构迭代器\n",
    "\n",
    "**和 `class` 定义的迭代器进行对比和**\n",
    "\n",
    "| 动作  | `class` 实现的迭代器  | `yield` 实现的迭代器  |\n",
    "|---|---|---|\n",
    "| 定义迭代器  | `class Iterator:`<br>`def __init__ (self, *args):`  |  `def iter_fun(*args):` |\n",
    "| 构建迭代器  | `Iterator(args)`  |  `iter_fun(args)` |\n",
    "| `next(iterator)`  | `def __next__(self): return value`  | `yield value`  |\n",
    "| `StopIteration`  | `raise StopIteration`  |  `return` |\n",
    "| `iter(iterator)`  | `def __iter__(self): return self`  |  自动实现 |"
   ]
  },
  {
   "cell_type": "markdown",
   "metadata": {},
   "source": [
    "### 生成器的三种应用场景：\n",
    "- 定义一个容器类的可迭代对象，为该对象实现 `__iter__` 接口\n",
    "- 定义一个处理其它可迭代对象的迭代器\n",
    "- 定义一个不依赖数据存储的数据生成器"
   ]
  },
  {
   "cell_type": "markdown",
   "metadata": {},
   "source": [
    "**为数据类实现 `__iter__` 接口**"
   ]
  },
  {
   "cell_type": "code",
   "execution_count": null,
   "metadata": {},
   "outputs": [],
   "source": [
    "# 迭代器类\n",
    "class MyCustomDataIterator:\n",
    "    def __init__(self, data):\n",
    "        self.data = data\n",
    "        self. index = 1\n",
    "\n",
    "    def __iter__(self):\n",
    "        return self\n",
    "\n",
    "    def __next__(self):\n",
    "        self. index += 1\n",
    "        if self. index < self. data. size:\n",
    "            return self.data.get_value (self. index)\n",
    "        else:\n",
    "            raise StopIteration\n",
    "# 可迭代数据类\n",
    "class MyCustomData:\n",
    "    # 其余部分代码不重要都略过\n",
    "    ...\n",
    "    @property\n",
    "    def size (self): # 假设可以得到数据的大小\n",
    "        return self.size\n",
    "\n",
    "    def get_value (self, index): # 假设可通过索引/按顺序得到数据\n",
    "        return index\n",
    "\n",
    "    def __iter__(self):\n",
    "        return MyCustomDataIterator(self) # 构建迭代器"
   ]
  },
  {
   "cell_type": "code",
   "execution_count": null,
   "metadata": {},
   "outputs": [],
   "source": [
    "## 使用 yield 重构代码\n",
    "class MyCustomData:\n",
    "    # 其余部分代码不重要都略过\n",
    "    ...\n",
    "    @property\n",
    "    def size (self): # 假设可以得到数据的大小\n",
    "        return self.size\n",
    "\n",
    "    def get_value (self, index): # 假设可通过索引/按顺序得到数据\n",
    "        return index\n",
    "\n",
    "    def __iter__(self):\n",
    "        index = -1      # 注意，必须是局部变量\n",
    "        while index < 2:        # 设定迭代完成条件\n",
    "            index += 1\n",
    "            yield self.get_value(index)\n",
    "\n",
    "\n",
    "mydata = MyCustomData()     # 注意：mydata 是可迭代对象，但不是迭代器"
   ]
  },
  {
   "cell_type": "markdown",
   "metadata": {},
   "source": [
    "**实现有处理数据能力的迭代器**"
   ]
  },
  {
   "cell_type": "code",
   "execution_count": null,
   "metadata": {},
   "outputs": [],
   "source": [
    "BLACKLIST = ['白嫖', '取关']\n",
    "\n",
    "\n",
    "class SuzhiIterator:\n",
    "    def __init__(self, actions):\n",
    "        self. actions = actions\n",
    "        self. index = 0             # 初始化索引下标\n",
    "\n",
    "    def __next__(self):\n",
    "        while self.index < len (self. actions):\n",
    "            action = self. actions[self. index]\n",
    "            self.index += 1         # 更新索引下标\n",
    "            if action in BLACKLIST:\n",
    "                continue\n",
    "            elif '币' in action:\n",
    "                return action * 2\n",
    "            else:\n",
    "                return action\n",
    "        raise StopIteration\n",
    "\n",
    "    def __iter__(self):\n",
    "        return self"
   ]
  },
  {
   "cell_type": "code",
   "execution_count": null,
   "metadata": {},
   "outputs": [],
   "source": [
    "## 使用 yield 重构代码\n",
    "\n",
    "BLACKLIST = ['白嫖', '取关']\n",
    "def suzhi(actions):\n",
    "    for action in actions:\n",
    "        if action in BLACKLIST:\n",
    "            continue\n",
    "        elif '币' in action:\n",
    "            yield action * 2\n",
    "        else:\n",
    "            yield action\n",
    "\n",
    "\n",
    "actions = ['点赞', '投币', '收藏']\n",
    "for x in suzhi (actions) :\n",
    "    print (x)"
   ]
  },
  {
   "cell_type": "markdown",
   "metadata": {},
   "source": [
    "**实现一个数据生成器**"
   ]
  },
  {
   "cell_type": "code",
   "execution_count": null,
   "metadata": {},
   "outputs": [],
   "source": [
    "# 倒数计时器\n",
    "class DownCounter:\n",
    "    def __init__(self, start):\n",
    "        self. start = start\n",
    "    \n",
    "    def __iter__(self):\n",
    "        return self\n",
    "    \n",
    "    def __next__(self):\n",
    "        if self. start > 0:\n",
    "            self. start -= 1\n",
    "            return self.start\n",
    "        else:\n",
    "            raise StopIteration()"
   ]
  },
  {
   "cell_type": "code",
   "execution_count": null,
   "metadata": {},
   "outputs": [],
   "source": [
    "## 使用 yield 重构代码\n",
    "def countdown (start):\n",
    "    while start > 0:\n",
    "        start -= 1\n",
    "        yield start\n",
    "\n",
    "for x in countdown (5):\n",
    "    print (x)"
   ]
  },
  {
   "cell_type": "markdown",
   "metadata": {},
   "source": [
    "## 生成器的技术内幕\n",
    "**请耐心看完，对理解协程非常重要！**\n",
    "- 生成器函数和普通函数之间的区别\n",
    "- 生成器对象和生成器函数之间的关系\n",
    "- 生成器函数可以「暂停」执行的秘密"
   ]
  },
  {
   "cell_type": "markdown",
   "metadata": {},
   "source": [
    "## 函数的运行机制\n",
    "\n",
    "### 函数对象和代码对象\n",
    "每当定义了一个函数之后，就得到了一个「**函数对象**」："
   ]
  },
  {
   "cell_type": "code",
   "execution_count": null,
   "metadata": {},
   "outputs": [],
   "source": [
    "def func():\n",
    "    x = 1\n",
    "    print(x)"
   ]
  },
  {
   "cell_type": "markdown",
   "metadata": {},
   "source": [
    "函数中的代码是保存在「**代码对象 (Code object)**」中的："
   ]
  },
  {
   "cell_type": "code",
   "execution_count": null,
   "metadata": {},
   "outputs": [],
   "source": [
    "func.__code__"
   ]
  },
  {
   "cell_type": "markdown",
   "metadata": {},
   "source": [
    "代码对象随着函数对象一起创建，是函数对象的一个重要属性。\n",
    "> Code objects represent byte-compiled executable Python code, or bytecode.\n",
    "\n",
    "代码对象中重要的属性以 `co_` 开头："
   ]
  },
  {
   "cell_type": "code",
   "execution_count": null,
   "metadata": {},
   "outputs": [],
   "source": [
    "func_code = func.__code__\n",
    "\n",
    "for attr in dir(func_code):\n",
    "    if attr.startswith('co_'):\n",
    "        print(f'{attr}\\t: {getattr(func_code, attr)}')"
   ]
  },
  {
   "cell_type": "markdown",
   "metadata": {},
   "source": [
    "### 函数运行帧\n",
    "函数对象和代码对象保存了函数的基本信息，当函数运行的时候，还需要一个对象来保存运行时的状态。\n",
    "\n",
    "这个对象就是 「**帧对象(Frame object)**」。\n",
    "\n",
    "> Frame objects represent execution frames.\n",
    "\n",
    "每一次调用函数，都会自动创建一个帧对象，记录当次运行的状态。"
   ]
  },
  {
   "cell_type": "code",
   "execution_count": null,
   "metadata": {},
   "outputs": [],
   "source": [
    "import inspect\n",
    "\n",
    "\n",
    "def foo():\n",
    "    # 获取到函数的运行帧并返回\n",
    "    return inspect.currentframe()\n",
    "\n",
    "f1 = foo()      # 由于被变量所引用，所以帧不会被垃圾回收\n",
    "f1"
   ]
  },
  {
   "cell_type": "code",
   "execution_count": null,
   "metadata": {},
   "outputs": [],
   "source": [
    "# 再调用一次，得到两一个帧\n",
    "f2 = foo()\n",
    "\n",
    "## 函数对象，代码对象和帧对象之间的关系\n",
    "import objgraph\n",
    "objgraph.show_backrefs(foo.__code__, max_depth=2)"
   ]
  },
  {
   "cell_type": "markdown",
   "metadata": {},
   "source": [
    "帧对象中重要的属性以 `f_` 开头：\n",
    "- `f_code`：执行的代码对象\n",
    "- `f_back`：指向上一个帧，也就是调用者的帧\n",
    "- `f_1ocals`：局部变量\n",
    "- `f_globals`：全局变量\n",
    "- `f_lineno`：当前对应的行号\n",
    "\n",
    "### 函数运行栈\n",
    "当一个函数中调用了另一个函数，此时前一个函数还没有结束，所以这两个函数的帧对象是同时存在的。\n",
    "\n",
    "比如，我们的程序一般都始于一个 `main` 函数，然后又调用其它函数，以此类推。\n",
    "\n",
    "因此，一个程序的运行期，同时存在很多个帧对象。\n",
    "\n",
    "函数之间的调用关系是先**执行的后退出**，所以帧对象之间的关系也是**先入后出**，正好以**栈**的形式保存。\n",
    "\n",
    "因此，函数的运行帧又称为**栈帧**。\n",
    "\n",
    "注意：一个线程只有一个函数运行栈。"
   ]
  },
  {
   "cell_type": "code",
   "execution_count": null,
   "metadata": {},
   "outputs": [],
   "source": [
    "## 展示发生函数调用时的栈\n",
    "def foo():\n",
    "    return inspect.currentframe()\n",
    "\n",
    "\n",
    "def bar():\n",
    "    return foo()        # 返回 foo 函数运行时的帧对象\n",
    "\n",
    "\n",
    "f1 = bar()\n",
    "objgraph.show_refs(f1, max_depth=3, too_many=2)"
   ]
  },
  {
   "cell_type": "markdown",
   "metadata": {},
   "source": [
    "### 生成器函数有何不同\n",
    "生成器函数仍然是函数对象，当然也包括了代码对象。"
   ]
  },
  {
   "cell_type": "code",
   "execution_count": null,
   "metadata": {},
   "outputs": [],
   "source": [
    "def gen_foo():\n",
    "    for _ in range(10):\n",
    "        yield inspect.currentframe()        #  每一次迭代都返回当前帧\n",
    "\n",
    "\n",
    "objgraph.show_refs(gen_foo, max_depth=1 , too_many=1)"
   ]
  },
  {
   "cell_type": "markdown",
   "metadata": {},
   "source": [
    "调用生成器函数不会直接运行（也就是说，不像普通函数那样创建帧对象并且压入函数栈），而是得到一个生成器\n",
    "对象。\n",
    "\n",
    "那么秘密自然是藏在生成器对象里："
   ]
  },
  {
   "cell_type": "code",
   "execution_count": null,
   "metadata": {},
   "outputs": [],
   "source": [
    "gf = gen_foo()\n",
    "objgraph.show_refs(gf, max_depth=2, too_many=2)"
   ]
  },
  {
   "cell_type": "markdown",
   "metadata": {},
   "source": [
    "当每次使用 `next()` 对生成器进行迭代时，都用这个帧对象（`gi_frame`）来保存状态："
   ]
  },
  {
   "cell_type": "code",
   "execution_count": null,
   "metadata": {},
   "outputs": [],
   "source": [
    "## 演示目的：展示生成器迭代的过程中都是同一个 frame 对象\n",
    "\n",
    "gf = gen_foo()\n",
    "\n",
    "# 存为变量，不然迭代结束后该属性会清空\n",
    "gi_frame = gf.gi_frame\n",
    "\n",
    "# 保存所有迭代结果\n",
    "frames = list(gf)\n",
    "\n",
    "print(gf.gi_frame)      # None\n",
    "\n",
    "for f in frames:\n",
    "    print(f is gi_frame)"
   ]
  },
  {
   "cell_type": "markdown",
   "metadata": {},
   "source": [
    "生成器的 frame 对象在暂停状态下看不到调用的关系图："
   ]
  },
  {
   "cell_type": "code",
   "execution_count": null,
   "metadata": {},
   "outputs": [],
   "source": [
    "gf = gen_foo()\n",
    "\n",
    "# f = next(gf)\n",
    "\n",
    "objgraph.show_refs(gf.gi_frame, max_depth=1, too_many=1)"
   ]
  },
  {
   "cell_type": "markdown",
   "metadata": {},
   "source": [
    "想要在生成器运行的过程中观察运行栈的关系图也是可以的："
   ]
  },
  {
   "cell_type": "code",
   "execution_count": null,
   "metadata": {},
   "outputs": [],
   "source": [
    "def gen_frame_graph():\n",
    "    for _ in range(10):\n",
    "        # 在运行时把图形生成\n",
    "        graph = objgraph.show_refs(inspect.currentframe(), max_depth=3)\n",
    "        yield graph\n",
    "\n",
    "\n",
    "gfg = gen_frame_graph()\n",
    "\n",
    "# 定义两个不同名的函数是为了方便观察栈的变化\n",
    "\n",
    "def func_a(g):\n",
    "    return next(g)\n",
    "\n",
    "\n",
    "def func_b(g):\n",
    "    return next(g)\n",
    "\n",
    "\n",
    "func_a(gfg)"
   ]
  },
  {
   "cell_type": "code",
   "execution_count": null,
   "metadata": {},
   "outputs": [],
   "source": [
    "func_b(gfg)"
   ]
  },
  {
   "cell_type": "markdown",
   "metadata": {},
   "source": [
    "综上，我们可以总结出：\n",
    "\n",
    "- 生成器函数并不直接运行，而是借助于生成器对象来间接运行\n",
    "\n",
    "- 创建生成器对象的同时创建了帧对象，并且由生成器对象保持引用\n",
    "\n",
    "- 每次使用 `next()` 调用生成器时，就是将生成器引用的帧对象入栈\n",
    "\n",
    "- 当 `next()` 返回时，也就是代码遇到 yield 暂停的时候，就是将帧出栈\n",
    "\n",
    "- 直到迭代结束，帧最后一次出栈，并且被销毁"
   ]
  },
  {
   "cell_type": "markdown",
   "metadata": {},
   "source": [
    "## 同步和异步\n",
    "### 普通函数：\n",
    "- 调用函数：构建帧对象并入栈\n",
    "- 函数执行结束：帧对象出栈并销毀\n",
    "\n"
   ]
  },
  {
   "cell_type": "code",
   "execution_count": null,
   "metadata": {},
   "outputs": [],
   "source": [
    "## 普通函数只能实现同步方式运行多任务\n",
    "\n",
    "def sync_task_runner():\n",
    "    task_a()\n",
    "    task_b()        # 只有等 task_a 执行完毕才可能开始执行"
   ]
  },
  {
   "cell_type": "markdown",
   "metadata": {},
   "source": [
    "### 生成器函数：\n",
    "- 创建生成器：构建帧对象\n",
    "- （多次）通过 `next` 触发执行：帧入栈\n",
    "- （多次）遇到 `yield`：帧出栈（保留）\n",
    "- 迭代结束：帧出栈并销毁"
   ]
  },
  {
   "cell_type": "code",
   "execution_count": null,
   "metadata": {},
   "outputs": [],
   "source": [
    "## 生成器函数让异步运行任务变得可能\n",
    "\n",
    "def async_task():\n",
    "    # step 1 \n",
    "    yield\n",
    "    # step 2\n",
    "    yield\n",
    "    # step 3\n",
    "    yield\n",
    "\n",
    "\n",
    "# 任务队列\n",
    "all_tasks=[]\n",
    "\n",
    "# 创建两个任务\n",
    "async_task_a = async_task()\n",
    "async_task_b = async_task()\n",
    "\n",
    "# 都加入到队列\n",
    "all_tasks.append(async_task_a)\n",
    "all_tasks.append(async_task_b)\n",
    "\n",
    "\n",
    "def async_task_runner():\n",
    "    \"\"\"一个最简陋的一部任务调度器\"\"\"\n",
    "    for task in all_tasks:\n",
    "        next(task)"
   ]
  },
  {
   "cell_type": "markdown",
   "metadata": {},
   "source": [
    "## 从生成器到协程\n",
    "现在，我们可以更好地理解所谓的 `generator iterator` 是什么了：\n",
    "**「生成器对象」是一个用来迭代执行「生成器函数」的迭代器**\n",
    "\n",
    "- 数据的迭代器：针对一个包含很多元素的数据集，逐个返回其中的元素\n",
    "- 生成器迭代器：针对一个包含很多代码的函数，分段执行其中代码\n",
    "是不是有异曲同工之妙？\n",
    "\n",
    "**让一个函数可以多次迭代运行其中的代码**才是生成器对象最最根本的作用，而不仅是字面意思上的*生成数据*的东\n",
    "西。\n",
    "\n",
    "迭代产出数据只是迭代执行代码的自然结果而已。\n",
    "\n",
    "当用生成器来实现迭代器的时候，我们关注的是重点是：`yield <value>` 返回出来的数据。\n",
    "\n",
    "如果把焦点集中到「被迭代执行的代码」上，就能对生成器有个全新的视角，那就是「**协程**」。"
   ]
  },
  {
   "cell_type": "markdown",
   "metadata": {},
   "source": [
    "## 协程（yield版）\n",
    "\n",
    "### 基于生成器的协程\n",
    "> Generator-based Coroutines\n",
    "> \n",
    "> Deprecated since version 3.8, will be removed in version 3.11: Use `async def` instead.\n",
    "\n",
    "按照 Python 文档的描述，所谓的「基于生成器的协程」指的是用 `yield from` 创建的生成器，并且还要搭配 `asyncio.coroutine` 装饰器来使用。"
   ]
  },
  {
   "cell_type": "markdown",
   "metadata": {},
   "source": [
    "\n",
    "### 对比 generaotr 和 coroutine"
   ]
  },
  {
   "cell_type": "code",
   "execution_count": 4,
   "metadata": {},
   "outputs": [
    {
     "name": "stdout",
     "output_type": "stream",
     "text": [
      "<generator object generator_func at 0x7ff4f8b73f40>\n",
      "['__del__', '__iter__', '__name__', '__next__', '__qualname__', 'close', 'gi_code', 'gi_frame', 'gi_running', 'gi_yieldfrom', 'send', 'throw']\n"
     ]
    }
   ],
   "source": [
    "def generator_func():\n",
    "    yield\n",
    "\n",
    "\n",
    "gen = generator_func()\n",
    "\n",
    "print(gen)\n",
    "print(sorted(set(dir(gen)) - set(dir(object))))"
   ]
  },
  {
   "cell_type": "code",
   "execution_count": 5,
   "metadata": {},
   "outputs": [
    {
     "name": "stdout",
     "output_type": "stream",
     "text": [
      "<coroutine object coroutine_func at 0x7ff4f8b73610>\n",
      "['__await__', '__del__', '__name__', '__qualname__', 'close', 'cr_await', 'cr_code', 'cr_frame', 'cr_origin', 'cr_running', 'send', 'throw']\n"
     ]
    }
   ],
   "source": [
    "async def coroutine_func():\n",
    "    await coroutine_func()\n",
    "\n",
    "\n",
    "coro = coroutine_func()\n",
    "\n",
    "print(coro)\n",
    "print(sorted(set(dir(coro)) - set(dir(object))))"
   ]
  },
  {
   "cell_type": "markdown",
   "metadata": {},
   "source": [
    "### 生成器的增强点\n",
    "- `yield` 语句\n",
    "  - PEP 252-Simple Generators\n",
    "  - Python 2.2\n",
    "- `yield` 表达式\n",
    "  - = PEP 342-Coroutines via Enhanced Generators\n",
    "  - Python 2.5"
   ]
  },
  {
   "cell_type": "markdown",
   "metadata": {},
   "source": [
    "### `yield` 表达式\n",
    "PEP 342-Coroutines via Enhanced Generators把 `yield` 关键字升级成了表达式。\n",
    "\n",
    "所谓**表达式(Expression）**，意味着它可以被解析成一个**值**。\n",
    "\n"
   ]
  },
  {
   "cell_type": "code",
   "execution_count": null,
   "metadata": {},
   "outputs": [],
   "source": [
    "# 赋值给变量\n",
    "x = yield\n",
    "\n",
    "# 计算后赋值给变量\n",
    "y =yield + 1\n",
    "\n",
    "# yield 可以作为函数入参，但是需要使用（）括起来\n",
    "print((yield))"
   ]
  },
  {
   "cell_type": "markdown",
   "metadata": {},
   "source": [
    "### `yield` 表达式如何获取到值？"
   ]
  },
  {
   "cell_type": "code",
   "execution_count": null,
   "metadata": {},
   "outputs": [],
   "source": [
    "def show_yield_value():\n",
    "    x = yield\n",
    "    print(f'x is {x}')\n",
    "\n",
    "\n",
    "g = show_yield_value()\n",
    "next(g)     # 1st time\n",
    "\n",
    "next(g)     # 2nd time"
   ]
  },
  {
   "cell_type": "markdown",
   "metadata": {},
   "source": [
    "使用 `next()` 函数来驱动生成器的时候，`yield` 表达式的值总是为 `None`。\n",
    "\n",
    "为生成器增加一个 `send()` 方法，该方法可以接受一个入参。\n",
    "\n",
    "`send` 方法顾名思义，将该参数**发送**给生成器，使生成器恢复运行的同时，将该入参作为 **`yield` 表达式的值**。"
   ]
  },
  {
   "cell_type": "code",
   "execution_count": null,
   "metadata": {},
   "outputs": [],
   "source": [
    "def show_yield_value():\n",
    "    print(\"开始\")\n",
    "    x = yield\n",
    "    print(f'x is {x}')\n",
    "\n",
    "    \n",
    "g = show_yield_value()\n",
    "# g.send('hello') # 第1次只能是 None\n",
    "g.send(None)\n",
    "\n",
    "g.send('hello')     # after 1st time"
   ]
  },
  {
   "cell_type": "markdown",
   "metadata": {},
   "source": [
    "### 关于 prime\n",
    "对于刚创建好的生成器，总是需要在第一次的时候 `send(None)` 值，使其运行到 `yield` 的地方暂停，这个步骤术语称为 prime。\n",
    "> 这里 prime 做动词解的意思：PREPARE SOMEBODY to prepare someone for a situation so that they know what to do <- 使准备好〔应付某个情况〕\n",
    "\n",
    "> prime 在《流畅的Python》中文版被翻译为「预激」，感觉有点过于专业物口，其实这个步骤后续并没有那么重要（后面会解释），所以我就直接称为/激活」，大家明白是什么意思就好。"
   ]
  },
  {
   "cell_type": "markdown",
   "metadata": {},
   "source": [
    "### `yield` 表达式的优先级"
   ]
  },
  {
   "cell_type": "code",
   "execution_count": null,
   "metadata": {},
   "outputs": [],
   "source": [
    "def add_yield_value():\n",
    "    # x = yield + 1     # is equivalente to: x = (yield 1)\n",
    "    x = (yield) + 1\n",
    "    print(f'x is {x}')\n",
    "\n",
    "\n",
    "g = add_yield_value()\n",
    "g.send(None)        # prime"
   ]
  },
  {
   "cell_type": "code",
   "execution_count": null,
   "metadata": {},
   "outputs": [],
   "source": [
    "g.send(1)"
   ]
  },
  {
   "cell_type": "markdown",
   "metadata": {},
   "source": [
    "### `send()` 用法总结\n",
    "- `send` 是生成器对象的方法\n",
    "- 对于生成器对象 `g`，`next(g)` 等价于 `g.send(None)`\n",
    "- 只有当生成器处在「暂停」状态时，才能传入非None的值\n",
    "- send 方法是为了协程而增加的 API，所以：\n",
    "  - 如果将生成器视作协程，就应该只用 `send` 方法\n",
    "  - 如果视作迭代器，就仍用 `next`\n",
    "所以，后面我们统一都使用 `g.send(None)` 的方式，而不再采用 `next(g)` 的方式。"
   ]
  },
  {
   "cell_type": "markdown",
   "metadata": {},
   "source": [
    "### 一个极简的 echo"
   ]
  },
  {
   "cell_type": "code",
   "execution_count": null,
   "metadata": {},
   "outputs": [],
   "source": [
    "def gen_echo():\n",
    "    while True:\n",
    "        print((yield))      # double parentheses\n",
    "\n",
    "echo = gen_echo()\n",
    "echo.send(None)"
   ]
  },
  {
   "cell_type": "code",
   "execution_count": null,
   "metadata": {},
   "outputs": [],
   "source": [
    "一键三连 = ('点赞', '投币', '收藏')\n",
    "for action in 一键三连:\n",
    "    echo.send(action)"
   ]
  },
  {
   "cell_type": "code",
   "execution_count": null,
   "metadata": {},
   "outputs": [],
   "source": [
    "echo.send(StopIteration('stop'))        # sending StopIeration into generator can not stop it"
   ]
  },
  {
   "cell_type": "markdown",
   "metadata": {},
   "source": [
    "### 使用 `close()` 结束生成器\n",
    "\n",
    "当生成器作为迭代器来用的时候，它的生命周期取决于有多少元素可以迭代。\n",
    "\n",
    "而当作协程来用的时候，通常可以视作是在执行一个任务，我们希望任务的终止能够变得可控。\n",
    "\n",
    "新增的 `c1ose` 方法就是用来结束一个协程："
   ]
  },
  {
   "cell_type": "code",
   "execution_count": null,
   "metadata": {},
   "outputs": [],
   "source": [
    "echo.close()"
   ]
  },
  {
   "cell_type": "code",
   "execution_count": null,
   "metadata": {},
   "outputs": [],
   "source": [
    "echo.send('hi')"
   ]
  },
  {
   "cell_type": "markdown",
   "metadata": {},
   "source": [
    "由于 `echo` 协程的内容非常简单，所以可以直接结束。\n",
    "如果协程的代码比较复杂，它可能需要在结束的时候做一些善后处理，比如释放资源等。\n",
    "类似于 `StopIteration` 的实现机制，结束协程也是靠异常来实现的："
   ]
  },
  {
   "cell_type": "code",
   "execution_count": null,
   "metadata": {},
   "outputs": [],
   "source": [
    "def gen_echo_v2():\n",
    "    while True:\n",
    "        try:\n",
    "            x = yield\n",
    "        except GeneratorExit:       # 协程和生成器使用同一种异常结束\n",
    "            print('exit. bye!')\n",
    "            return      # 必须要结束\n",
    "        else:\n",
    "            print(x)"
   ]
  },
  {
   "cell_type": "code",
   "execution_count": null,
   "metadata": {},
   "outputs": [],
   "source": [
    "echo_v2 = gen_echo_v2()\n",
    "echo_v2.send(None)      # prime 需要激活才能捕捉到异常\n",
    "echo_v2.close()         # 手动退出"
   ]
  },
  {
   "cell_type": "markdown",
   "metadata": {},
   "source": [
    "除了显式地调用 `close` 方法，如果生成器对象被垃圾回收，也会自动调用 `close`:"
   ]
  },
  {
   "cell_type": "code",
   "execution_count": null,
   "metadata": {},
   "outputs": [],
   "source": [
    "echo_v2 = gen_echo_v2()\n",
    "echo_v2.send(None)      # prime 需要激活才能捕捉到异常\n",
    "\n",
    "# del echo_v2\n",
    "echo_v2 = 123       # 改变对象或者删除生成器对象"
   ]
  },
  {
   "cell_type": "markdown",
   "metadata": {},
   "source": [
    "### 使用 `throw()` 将异常抛给 `yield`"
   ]
  },
  {
   "cell_type": "code",
   "execution_count": null,
   "metadata": {},
   "outputs": [],
   "source": [
    "def gen_echo_v3():\n",
    "    while True:\n",
    "        try:\n",
    "            x = yield\n",
    "        except GeneratorExit:\n",
    "            print('exit. bye!')\n",
    "            return      # 退出循环，避免再一次进入 try\n",
    "        except KeyboardInterrupt:\n",
    "            print('按下了 Ctrl-C')\n",
    "        else:\n",
    "            print(x)"
   ]
  },
  {
   "cell_type": "code",
   "execution_count": null,
   "metadata": {},
   "outputs": [],
   "source": [
    "echo_v3 = gen_echo_v3()\n",
    "echo_v3.send(None)      # prime"
   ]
  },
  {
   "cell_type": "code",
   "execution_count": null,
   "metadata": {},
   "outputs": [],
   "source": [
    "echo_v3.throw(KeyboardInterrupt)        # 没有退出循环，停在了下一个 yield 处"
   ]
  },
  {
   "cell_type": "code",
   "execution_count": null,
   "metadata": {},
   "outputs": [],
   "source": [
    "echo_v3.send(2)"
   ]
  },
  {
   "cell_type": "code",
   "execution_count": null,
   "metadata": {},
   "outputs": [],
   "source": [
    "echo_v3.throw(RuntimeError)     # 没有 except 的异常,也会造成退出循环"
   ]
  },
  {
   "cell_type": "code",
   "execution_count": null,
   "metadata": {},
   "outputs": [],
   "source": [
    "echo_v3.send(2)"
   ]
  },
  {
   "cell_type": "markdown",
   "metadata": {},
   "source": [
    "### 总结协程的几个功能点\n",
    "\n",
    "- 例子最初来源：https://mail.python.org/pipermaiL/python-ideas/2009-ApriL/003841.htmL\n",
    "\n",
    "- 《流畅的 Python》中有一个改写的版本；\n",
    "\n",
    "- 这里同时借鉴了两者的写法"
   ]
  },
  {
   "cell_type": "code",
   "execution_count": null,
   "metadata": {},
   "outputs": [],
   "source": [
    "def coro_averager():\n",
    "    \"\"\"计算移动平均值\"\"\"\n",
    "    count = 0\n",
    "    total = 0\n",
    "    avg = None\n",
    "    while True:\n",
    "        try:\n",
    "            val = yield avg\n",
    "        except GeneratorExit:\n",
    "            return total, count, avg\n",
    "        else:\n",
    "            total += val\n",
    "            count += 1\n",
    "            avg = total / count"
   ]
  },
  {
   "cell_type": "markdown",
   "metadata": {},
   "source": [
    "1. 在 `yield` 的位置产出数据\n",
    "2. 在 `yield` 的位置暂停\n",
    "3. 在 `yield` 的位置恢复，并接受新的参数\n",
    "4. 在 `yield` 的位置传入结束信号\n",
    "5. 在 `yield` 的位置传入其它异常"
   ]
  },
  {
   "cell_type": "markdown",
   "metadata": {},
   "source": [
    "### 生成器的3种模式\n",
    "来自「仁慈的独裁者」的权威解释\n",
    "\n",
    "Python 之父 Guido 在一封邮件里总结道，生成器有3种模式：\n",
    "\n",
    "> There's the traditional \"pull\" style (terators), \"push\" style (like the averaging example), and then there are \"tasks\"\n",
    "> \n",
    "> --Guido van Rossum 讨论 yield from 的邮件\n",
    "- pull：特点在于能不断向外产出数据，也就是迭代器\n",
    "- push：特点在于能不断向内发送数据，比如上一章中的计算移动平均值的例子，是非常早期的协程概念\n",
    "- task：任务式（是 Asynclo 里的协程）"
   ]
  },
  {
   "cell_type": "markdown",
   "metadata": {},
   "source": [
    "**pull vs push**\n"
   ]
  },
  {
   "cell_type": "code",
   "execution_count": null,
   "metadata": {},
   "outputs": [],
   "source": [
    "#＃ PuLL式，也就是生成器的数据流\n",
    "from graphviz import Digraph\n",
    "pull式的数据流 = Digraph(graph_attr={'rankdir': 'LR'}, node_attr={'shape': 'box'})\n",
    "# dot.node('可迭代对象')\n",
    "pull式的数据流.node('A', '迭代器')\n",
    "pull式的数据流.node('B', '迭代器')\n",
    "pull式的数据流.node('C', '迭代器')\n",
    "pull式的数据流.node('D', '迭代器')\n",
    "# dot.node('for循环')\n",
    "pull式的数据流.node('a', '...', {'shape': 'plaintext'})\n",
    "pull式的数据流.edges([('可迭代对象', 'A'), ('AB'), ('Ba'), ('aC'), ('CD'), ('D', 'for循环')])\n",
    "pull式的数据流"
   ]
  },
  {
   "cell_type": "code",
   "execution_count": null,
   "metadata": {},
   "outputs": [],
   "source": [
    "# push 式，也就是经典协程的数据流\n",
    "push式的数据流1 = Digraph(graph_attr={'rankdir': 'LR'}, node_attr={'shape': 'box'})\n",
    "push式的数据流1.node('A', '协程')\n",
    "push式的数据流1.node('B', '协程')\n",
    "push式的数据流1.node('C', '协程')\n",
    "push式的数据流1.node('D', '协程')\n",
    "push式的数据流1.node('a', '...', shape='plaintext')\n",
    "push式的数据流1.node('b', '...', {'shape': 'plaintext'})\n",
    "push式的数据流1.edges([('数据源头', 'A'), ('AB'), ('Ba'), ('aC'), ('CD'), ('Db')])\n",
    "push式的数据流1"
   ]
  },
  {
   "cell_type": "code",
   "execution_count": null,
   "metadata": {},
   "outputs": [],
   "source": [
    "## push 式，也就是经典协程的数据流\n",
    "push式的数据流2 = Digraph(graph_attr={'rankdir': 'LR'}, node_attr={'shape': 'box'})\n",
    "push式的数据流2.node('A', '协程')\n",
    "push式的数据流2.node('B', '协程')\n",
    "push式的数据流2.node('C', '协程')\n",
    "push式的数据流2.node('D', '协程')\n",
    "push式的数据流2.node('E', '协程')\n",
    "push式的数据流2.edges([('数据源头', 'A'), ('AB'), ('AC'), ('AD'), ('BE'), ('CE'), ('DE')])\n",
    "push式的数据流2"
   ]
  },
  {
   "cell_type": "markdown",
   "metadata": {},
   "source": [
    "**push vs task**"
   ]
  },
  {
   "cell_type": "code",
   "execution_count": 1,
   "metadata": {},
   "outputs": [],
   "source": [
    "# 这是 push 式生成器\n",
    "def coro_averager():\n",
    "    \"\"\"计算移动平均值\"\"\"\n",
    "    count = 0\n",
    "    total = 0\n",
    "    avg = None\n",
    "    while True:\n",
    "        try:\n",
    "            val = yield avg\n",
    "        except GeneratorExit:\n",
    "            return total, count, avg\n",
    "        else:\n",
    "            total += val\n",
    "            count += 1\n",
    "            avg = total / count"
   ]
  },
  {
   "cell_type": "code",
   "execution_count": null,
   "metadata": {},
   "outputs": [],
   "source": [
    "# 这是 task 式生成器\n",
    "def coro_some_task(n):\n",
    "    print('doint step 1.')\n",
    "    yield \"1秒钟后回来\"     # 出栈前能够传出去的最后消息\n",
    "    # 1秒钟时间到，继续\n",
    "    print('doing step 2')\n",
    "    data = yield \"data 可用了再叫我\"\n",
    "    # data 准备好了，继续吧\n",
    "    return 'done'"
   ]
  },
  {
   "cell_type": "markdown",
   "metadata": {},
   "source": [
    "**data vs event**\n",
    "\n",
    "一句话解释：\n",
    "\n",
    "- pull/push 都是受**数据驱动**的\n",
    "- task 是受**事件驱动**的"
   ]
  },
  {
   "cell_type": "code",
   "execution_count": null,
   "metadata": {},
   "outputs": [],
   "source": [
    "# PuLL风格生成器的伪代码\n",
    "def pull_style():\n",
    "    while still_have_data:\n",
    "        yield data"
   ]
  },
  {
   "cell_type": "code",
   "execution_count": null,
   "metadata": {},
   "outputs": [],
   "source": [
    "# push风格生成器的伪代码\n",
    "def push_style():\n",
    "    while still_have_data:\n",
    "        input_data = yield output_data"
   ]
  },
  {
   "cell_type": "code",
   "execution_count": null,
   "metadata": {},
   "outputs": [],
   "source": [
    "# task式生成器，也就是协程\n",
    "def task_style():\n",
    "    ??? = yield ???"
   ]
  },
  {
   "cell_type": "markdown",
   "metadata": {},
   "source": [
    "**什么是「event」?**\n",
    "\n",
    "事件(event)是一个抽象的概念，就是指一件事情发生了。\n",
    "\n",
    "例如：\n",
    "\n",
    "要休息3秒钟后继续执行 滴答，滴答，滴答**3秒时间到**，这就是一个事件。\n",
    "\n",
    "再例如：\n",
    "\n",
    "要读取网络数据\n",
    "\n",
    "socket.recv(1024)\n",
    "\n",
    "如果 socket 还没接受到数据，此时这个调用就会阻塞在这里，直到有数据可读。**socket变得可读**，这就是一个事件。"
   ]
  },
  {
   "cell_type": "markdown",
   "metadata": {},
   "source": [
    "**event 是如何运作的？**\n",
    "\n",
    "事件通常都是通过**回调函数 (callback）**来处理的。"
   ]
  },
  {
   "cell_type": "code",
   "execution_count": null,
   "metadata": {},
   "outputs": [],
   "source": [
    "#＃设置回调的函数大概是下面这样子\n",
    "\n",
    "#3 秒后调用 func\n",
    "call_later(3, func)\n",
    "\n",
    "# 当 socket 可读时调用 read\n",
    "register(sock, selectors.EVENT_READ, read)"
   ]
  },
  {
   "cell_type": "markdown",
   "metadata": {},
   "source": [
    "**灵魂发问**\n",
    "- 为什么要**让出**（`yield`）执行权（也就是出栈）？\n",
    "  - 遇到什么样的事件需要 `yield`?\n",
    "  - 在出栈前该如何设置事件（回调）？\n",
    "- 凭什么能**恢复**执行（也就是入栈）？\n",
    "  - 是谁促成了事件的发生？\n",
    "  - 是谁（感知到了事件的发生）让出栈的协程再次入栈（也就是说，谁来调用 send）？\n",
    "PS:大家不都说有了协程不用写回调函数了嘛，这又是怎么回事？"
   ]
  },
  {
   "cell_type": "markdown",
   "metadata": {},
   "source": [
    "## 协程（`yield from` 版）\n",
    "\n",
    "### `yield from` 的入门例子\n",
    "\n",
    "绝大多数教程，包括《流畅的Python》这本书中，关于 `yield from` 的基础例子都非常糟糕。\n",
    "\n",
    "基本上都是以一个 `for` 循环开场。\n",
    "\n",
    "然后各种新术语安排上，什么委派生成器，子生成器等等。。\n",
    "\n",
    "一通操作下来让人满脸问号jpg，费这么大周折难道就是为了少写一层循环？"
   ]
  },
  {
   "cell_type": "code",
   "execution_count": null,
   "metadata": {},
   "outputs": [],
   "source": [
    "## yield from 的用法很简单\n",
    "RESULT = yield from EXPR"
   ]
  },
  {
   "cell_type": "code",
   "execution_count": null,
   "metadata": {},
   "outputs": [],
   "source": [
    "##以下代码是 RESULT = yield from EXPR\n",
    "#＃ 的等价写法\n",
    "#＃ 来自：https://peps.python.org/pep-0380/\n",
    "\n",
    "_i = iter(EXPR)\n",
    "try:\n",
    "    _y = next(_i)\n",
    "except StopIteration as _e:\n",
    "    _r = _e.value\n",
    "else:\n",
    "    while 1:\n",
    "        try:\n",
    "            _s = yield _y\n",
    "        except GeneratorExit as _e:\n",
    "            try:\n",
    "                _m = _i.close\n",
    "            except AttributeError:\n",
    "                pass\n",
    "            else:\n",
    "                _m()\n",
    "            raise _e\n",
    "        except BaseException as _e:\n",
    "            _x = sys.exc_info()\n",
    "            try:\n",
    "                _m = _i.throw\n",
    "            except AttributeError:\n",
    "                raise _e\n",
    "            else:\n",
    "                try:\n",
    "                    _y = _m(*_x)\n",
    "                except StopIteration as _e:\n",
    "                    _r = _e.value\n",
    "                    break\n",
    "        else:\n",
    "            try:\n",
    "                if _s is None:\n",
    "                    _y = next(_i)\n",
    "                else:\n",
    "                    _y = _i.send(_s)\n",
    "            except StopIteration as _e:\n",
    "                _r = _e.value\n",
    "                break\n",
    "RESULT = _r"
   ]
  },
  {
   "cell_type": "code",
   "execution_count": null,
   "metadata": {},
   "outputs": [],
   "source": [
    "## 部分简化后的结果\n",
    "\n",
    "_i = iter(EXPR)     # __iter__ -> __await__\n",
    "try:\n",
    "    _y = _i.send(None) # prime\n",
    "except StopIteration as _e: # 直接就结束了，一次 yield 都没遇上\n",
    "    _r = _e.value\n",
    "else:\n",
    "    while 1: # 不遇到 StopIteration 不算完\n",
    "        try:\n",
    "            _s = yield _y # 照原样 yield 出去，并接受 send 传入的值\n",
    "        except GeneratorExit as _e: # 处理 close\n",
    "            _i.close()\n",
    "            raise _e\n",
    "        except BaseException as _e: # 处理其它异常\n",
    "            _x = sys.exc_info()\n",
    "            try:\n",
    "                _y = _i.throw(*_x)\n",
    "            except StopIteration as _e:\n",
    "                _r = _e.value\n",
    "                break\n",
    "        else:\n",
    "            try:\n",
    "                _y = _i.send(_s) # 接受到的值原样再 send 下去\n",
    "            except StopIteration as _e:\n",
    "                _r = _e.value\n",
    "                break\n",
    "RESULT = _r # StopIteration 带出来的值就是结果"
   ]
  },
  {
   "cell_type": "code",
   "execution_count": null,
   "metadata": {},
   "outputs": [],
   "source": [
    "## 已知总是会 send(None)，继续简化后的结果\n",
    "## 再去掉异常处理部分代码\n",
    "\n",
    "_i = iter(EXPR)     # __iter__ -> __await__\n",
    "while 1:\n",
    "    try:\n",
    "        _y = _i.send(None)      # 总是 None,  也就无所谓 prime\n",
    "    except StopIteration as _e: # 直接就结束了，一次 yield 都没遇上\n",
    "        _r = _e.value\n",
    "        break\n",
    "    else:\n",
    "        yield _y # 照原样 yield 出去，并接受 send 传入的值\n",
    "\n",
    "\n",
    "RESULT = _r # StopIteration 带出来的值就是结果"
   ]
  },
  {
   "cell_type": "markdown",
   "metadata": {},
   "source": [
    "### 定义一个任务\n",
    "\n",
    "**一个同步模式的简单任务**"
   ]
  },
  {
   "cell_type": "code",
   "execution_count": 1,
   "metadata": {},
   "outputs": [
    {
     "name": "stdout",
     "output_type": "stream",
     "text": [
      "begin task\n",
      "    begin big_step:\n",
      "        begin small_step:\n",
      "         hard working...\n",
      "        end small_step with 123\n",
      "    end big_step with 123000\n",
      "end task\n"
     ]
    }
   ],
   "source": [
    "def one_task():\n",
    "    \"\"\"一个任务\"\"\"\n",
    "    print(f'begin task')\n",
    "    ...     # other steps\n",
    "    print(f'    begin big_step:')\n",
    "\n",
    "    big_result = big_step()     # <---\n",
    "\n",
    "    print(f'    end big_step with {big_result}')\n",
    "    ...     # other steps\n",
    "\n",
    "    print(f'end task')\n",
    "\n",
    "\n",
    "def big_step():\n",
    "    ...     # other steps\n",
    "    print(f'        begin small_step:')\n",
    "\n",
    "    small_result = small_step()     # <---\n",
    "\n",
    "    print(f'        end small_step with {small_result}')\n",
    "    ...     # other steps\n",
    "    return small_result * 1000\n",
    "\n",
    "\n",
    "def small_step():\n",
    "    print('         hard working...')\n",
    "    return 123      # done\n",
    "\n",
    "\n",
    "# run task\n",
    "one_task()"
   ]
  },
  {
   "cell_type": "markdown",
   "metadata": {},
   "source": [
    "**遇到阻塞了**"
   ]
  },
  {
   "cell_type": "code",
   "execution_count": 2,
   "metadata": {},
   "outputs": [
    {
     "name": "stdout",
     "output_type": "stream",
     "text": [
      "begin task\n",
      "    begin big_step:\n",
      "        begin small_step:\n",
      "         have a rest, come back soon\n",
      "         hard working...\n",
      "        end small_step with 123\n",
      "    end big_step with 123000\n",
      "end task\n"
     ]
    }
   ],
   "source": [
    "from time import sleep\n",
    "\n",
    "\n",
    "def small_step():\n",
    "    print('         have a rest, come back soon')\n",
    "    sleep(2)\n",
    "    print('         hard working...')\n",
    "    return 123\n",
    "\n",
    "\n",
    "one_task()"
   ]
  },
  {
   "cell_type": "markdown",
   "metadata": {},
   "source": [
    "**听说 `yield` 变协程可以不阻塞**"
   ]
  },
  {
   "cell_type": "code",
   "execution_count": 3,
   "metadata": {},
   "outputs": [],
   "source": [
    "from time import sleep\n",
    "\n",
    "\n",
    "def small_step():\n",
    "    print('         have a rest, come back soon')\n",
    "    yield sleep(2)\n",
    "    print('         hard working...')\n",
    "    return 123\n",
    "\n"
   ]
  },
  {
   "cell_type": "code",
   "execution_count": 4,
   "metadata": {},
   "outputs": [
    {
     "name": "stdout",
     "output_type": "stream",
     "text": [
      "begin task\n",
      "    begin big_step:\n",
      "        begin small_step:\n",
      "        end small_step with <generator object small_step at 0x10dbe0a50>\n"
     ]
    },
    {
     "ename": "TypeError",
     "evalue": "unsupported operand type(s) for *: 'generator' and 'int'",
     "output_type": "error",
     "traceback": [
      "\u001b[0;31m---------------------------------------------------------------------------\u001b[0m",
      "\u001b[0;31mTypeError\u001b[0m                                 Traceback (most recent call last)",
      "\u001b[1;32m/Users/wangzefeng/GitControled/PythonLearning/AsyncIO.ipynb Cell 162\u001b[0m in \u001b[0;36m<cell line: 1>\u001b[0;34m()\u001b[0m\n\u001b[0;32m----> <a href='vscode-notebook-cell:/Users/wangzefeng/GitControled/PythonLearning/AsyncIO.ipynb#Y320sZmlsZQ%3D%3D?line=0'>1</a>\u001b[0m one_task()\n",
      "\u001b[1;32m/Users/wangzefeng/GitControled/PythonLearning/AsyncIO.ipynb Cell 162\u001b[0m in \u001b[0;36mone_task\u001b[0;34m()\u001b[0m\n\u001b[1;32m      <a href='vscode-notebook-cell:/Users/wangzefeng/GitControled/PythonLearning/AsyncIO.ipynb#Y320sZmlsZQ%3D%3D?line=3'>4</a>\u001b[0m \u001b[39m.\u001b[39m\u001b[39m.\u001b[39m\u001b[39m.\u001b[39m     \u001b[39m# other steps\u001b[39;00m\n\u001b[1;32m      <a href='vscode-notebook-cell:/Users/wangzefeng/GitControled/PythonLearning/AsyncIO.ipynb#Y320sZmlsZQ%3D%3D?line=4'>5</a>\u001b[0m \u001b[39mprint\u001b[39m(\u001b[39mf\u001b[39m\u001b[39m'\u001b[39m\u001b[39m    begin big_step:\u001b[39m\u001b[39m'\u001b[39m)\n\u001b[0;32m----> <a href='vscode-notebook-cell:/Users/wangzefeng/GitControled/PythonLearning/AsyncIO.ipynb#Y320sZmlsZQ%3D%3D?line=6'>7</a>\u001b[0m big_result \u001b[39m=\u001b[39m big_step()     \u001b[39m# <---\u001b[39;00m\n\u001b[1;32m      <a href='vscode-notebook-cell:/Users/wangzefeng/GitControled/PythonLearning/AsyncIO.ipynb#Y320sZmlsZQ%3D%3D?line=8'>9</a>\u001b[0m \u001b[39mprint\u001b[39m(\u001b[39mf\u001b[39m\u001b[39m'\u001b[39m\u001b[39m    end big_step with \u001b[39m\u001b[39m{\u001b[39;00mbig_result\u001b[39m}\u001b[39;00m\u001b[39m'\u001b[39m)\n\u001b[1;32m     <a href='vscode-notebook-cell:/Users/wangzefeng/GitControled/PythonLearning/AsyncIO.ipynb#Y320sZmlsZQ%3D%3D?line=9'>10</a>\u001b[0m \u001b[39m.\u001b[39m\u001b[39m.\u001b[39m\u001b[39m.\u001b[39m     \u001b[39m# other steps\u001b[39;00m\n",
      "\u001b[1;32m/Users/wangzefeng/GitControled/PythonLearning/AsyncIO.ipynb Cell 162\u001b[0m in \u001b[0;36mbig_step\u001b[0;34m()\u001b[0m\n\u001b[1;32m     <a href='vscode-notebook-cell:/Users/wangzefeng/GitControled/PythonLearning/AsyncIO.ipynb#Y320sZmlsZQ%3D%3D?line=20'>21</a>\u001b[0m \u001b[39mprint\u001b[39m(\u001b[39mf\u001b[39m\u001b[39m'\u001b[39m\u001b[39m        end small_step with \u001b[39m\u001b[39m{\u001b[39;00msmall_result\u001b[39m}\u001b[39;00m\u001b[39m'\u001b[39m)\n\u001b[1;32m     <a href='vscode-notebook-cell:/Users/wangzefeng/GitControled/PythonLearning/AsyncIO.ipynb#Y320sZmlsZQ%3D%3D?line=21'>22</a>\u001b[0m \u001b[39m.\u001b[39m\u001b[39m.\u001b[39m\u001b[39m.\u001b[39m     \u001b[39m# other steps\u001b[39;00m\n\u001b[0;32m---> <a href='vscode-notebook-cell:/Users/wangzefeng/GitControled/PythonLearning/AsyncIO.ipynb#Y320sZmlsZQ%3D%3D?line=22'>23</a>\u001b[0m \u001b[39mreturn\u001b[39;00m small_result \u001b[39m*\u001b[39;49m \u001b[39m1000\u001b[39;49m\n",
      "\u001b[0;31mTypeError\u001b[0m: unsupported operand type(s) for *: 'generator' and 'int'"
     ]
    }
   ],
   "source": [
    "\n",
    "one_task()"
   ]
  },
  {
   "cell_type": "code",
   "execution_count": 5,
   "metadata": {},
   "outputs": [
    {
     "name": "stdout",
     "output_type": "stream",
     "text": [
      "begin task\n",
      "    begin big_step:\n",
      "        begin small_step:\n",
      "         have a rest, come back soon\n",
      "         hard working...\n",
      "        end small_step with 123\n",
      "    end big_step with 123000\n",
      "end task\n"
     ]
    }
   ],
   "source": [
    "def big_step():\n",
    "    ...     # other steps\n",
    "    print(f'        begin small_step:')\n",
    "\n",
    "    # small_result = small_step()     # <---\n",
    "    small_coro = small_step()\n",
    "    while True:\n",
    "        try:\n",
    "            x = small_coro.send(None)\n",
    "        except StopIteration as e:\n",
    "            small_result = e.value\n",
    "            break\n",
    "        else:\n",
    "            pass        # deal with x\n",
    "\n",
    "    print(f'        end small_step with {small_result}')\n",
    "    ...     # other steps\n",
    "    return small_result * 1000\n",
    "\n",
    "\n",
    "one_task()"
   ]
  },
  {
   "cell_type": "markdown",
   "metadata": {},
   "source": [
    "**将阻塞从下游传到上游**"
   ]
  },
  {
   "cell_type": "code",
   "execution_count": 6,
   "metadata": {},
   "outputs": [
    {
     "name": "stdout",
     "output_type": "stream",
     "text": [
      "begin task\n",
      "    begin big_step:\n",
      "        begin small_step:\n",
      "         have a rest, come back soon\n"
     ]
    },
    {
     "ename": "AssertionError",
     "evalue": "睡眠时间不足",
     "output_type": "error",
     "traceback": [
      "\u001b[0;31m---------------------------------------------------------------------------\u001b[0m",
      "\u001b[0;31mAssertionError\u001b[0m                            Traceback (most recent call last)",
      "\u001b[1;32m/Users/wangzefeng/GitControled/PythonLearning/AsyncIO.ipynb Cell 165\u001b[0m in \u001b[0;36m<cell line: 13>\u001b[0;34m()\u001b[0m\n\u001b[1;32m     <a href='vscode-notebook-cell:/Users/wangzefeng/GitControled/PythonLearning/AsyncIO.ipynb#Y323sZmlsZQ%3D%3D?line=9'>10</a>\u001b[0m     \u001b[39mprint\u001b[39m(\u001b[39m'\u001b[39m\u001b[39m         hard working...\u001b[39m\u001b[39m'\u001b[39m)\n\u001b[1;32m     <a href='vscode-notebook-cell:/Users/wangzefeng/GitControled/PythonLearning/AsyncIO.ipynb#Y323sZmlsZQ%3D%3D?line=10'>11</a>\u001b[0m     \u001b[39mreturn\u001b[39;00m \u001b[39m123\u001b[39m\n\u001b[0;32m---> <a href='vscode-notebook-cell:/Users/wangzefeng/GitControled/PythonLearning/AsyncIO.ipynb#Y323sZmlsZQ%3D%3D?line=12'>13</a>\u001b[0m one_task()\n",
      "\u001b[1;32m/Users/wangzefeng/GitControled/PythonLearning/AsyncIO.ipynb Cell 165\u001b[0m in \u001b[0;36mone_task\u001b[0;34m()\u001b[0m\n\u001b[1;32m      <a href='vscode-notebook-cell:/Users/wangzefeng/GitControled/PythonLearning/AsyncIO.ipynb#Y323sZmlsZQ%3D%3D?line=3'>4</a>\u001b[0m \u001b[39m.\u001b[39m\u001b[39m.\u001b[39m\u001b[39m.\u001b[39m     \u001b[39m# other steps\u001b[39;00m\n\u001b[1;32m      <a href='vscode-notebook-cell:/Users/wangzefeng/GitControled/PythonLearning/AsyncIO.ipynb#Y323sZmlsZQ%3D%3D?line=4'>5</a>\u001b[0m \u001b[39mprint\u001b[39m(\u001b[39mf\u001b[39m\u001b[39m'\u001b[39m\u001b[39m    begin big_step:\u001b[39m\u001b[39m'\u001b[39m)\n\u001b[0;32m----> <a href='vscode-notebook-cell:/Users/wangzefeng/GitControled/PythonLearning/AsyncIO.ipynb#Y323sZmlsZQ%3D%3D?line=6'>7</a>\u001b[0m big_result \u001b[39m=\u001b[39m big_step()     \u001b[39m# <---\u001b[39;00m\n\u001b[1;32m      <a href='vscode-notebook-cell:/Users/wangzefeng/GitControled/PythonLearning/AsyncIO.ipynb#Y323sZmlsZQ%3D%3D?line=8'>9</a>\u001b[0m \u001b[39mprint\u001b[39m(\u001b[39mf\u001b[39m\u001b[39m'\u001b[39m\u001b[39m    end big_step with \u001b[39m\u001b[39m{\u001b[39;00mbig_result\u001b[39m}\u001b[39;00m\u001b[39m'\u001b[39m)\n\u001b[1;32m     <a href='vscode-notebook-cell:/Users/wangzefeng/GitControled/PythonLearning/AsyncIO.ipynb#Y323sZmlsZQ%3D%3D?line=9'>10</a>\u001b[0m \u001b[39m.\u001b[39m\u001b[39m.\u001b[39m\u001b[39m.\u001b[39m     \u001b[39m# other steps\u001b[39;00m\n",
      "\u001b[1;32m/Users/wangzefeng/GitControled/PythonLearning/AsyncIO.ipynb Cell 165\u001b[0m in \u001b[0;36mbig_step\u001b[0;34m()\u001b[0m\n\u001b[1;32m      <a href='vscode-notebook-cell:/Users/wangzefeng/GitControled/PythonLearning/AsyncIO.ipynb#Y323sZmlsZQ%3D%3D?line=6'>7</a>\u001b[0m \u001b[39mwhile\u001b[39;00m \u001b[39mTrue\u001b[39;00m:\n\u001b[1;32m      <a href='vscode-notebook-cell:/Users/wangzefeng/GitControled/PythonLearning/AsyncIO.ipynb#Y323sZmlsZQ%3D%3D?line=7'>8</a>\u001b[0m     \u001b[39mtry\u001b[39;00m:\n\u001b[0;32m----> <a href='vscode-notebook-cell:/Users/wangzefeng/GitControled/PythonLearning/AsyncIO.ipynb#Y323sZmlsZQ%3D%3D?line=8'>9</a>\u001b[0m         x \u001b[39m=\u001b[39m small_coro\u001b[39m.\u001b[39;49msend(\u001b[39mNone\u001b[39;49;00m)\n\u001b[1;32m     <a href='vscode-notebook-cell:/Users/wangzefeng/GitControled/PythonLearning/AsyncIO.ipynb#Y323sZmlsZQ%3D%3D?line=9'>10</a>\u001b[0m     \u001b[39mexcept\u001b[39;00m \u001b[39mStopIteration\u001b[39;00m \u001b[39mas\u001b[39;00m e:\n\u001b[1;32m     <a href='vscode-notebook-cell:/Users/wangzefeng/GitControled/PythonLearning/AsyncIO.ipynb#Y323sZmlsZQ%3D%3D?line=10'>11</a>\u001b[0m         small_result \u001b[39m=\u001b[39m e\u001b[39m.\u001b[39mvalue\n",
      "\u001b[1;32m/Users/wangzefeng/GitControled/PythonLearning/AsyncIO.ipynb Cell 165\u001b[0m in \u001b[0;36msmall_step\u001b[0;34m()\u001b[0m\n\u001b[1;32m      <a href='vscode-notebook-cell:/Users/wangzefeng/GitControled/PythonLearning/AsyncIO.ipynb#Y323sZmlsZQ%3D%3D?line=6'>7</a>\u001b[0m t1 \u001b[39m=\u001b[39m time\u001b[39m.\u001b[39mtime()\n\u001b[1;32m      <a href='vscode-notebook-cell:/Users/wangzefeng/GitControled/PythonLearning/AsyncIO.ipynb#Y323sZmlsZQ%3D%3D?line=7'>8</a>\u001b[0m \u001b[39myield\u001b[39;00m sleep,\u001b[39m2\u001b[39m\n\u001b[0;32m----> <a href='vscode-notebook-cell:/Users/wangzefeng/GitControled/PythonLearning/AsyncIO.ipynb#Y323sZmlsZQ%3D%3D?line=8'>9</a>\u001b[0m \u001b[39massert\u001b[39;00m time\u001b[39m.\u001b[39mtime() \u001b[39m-\u001b[39m t1 \u001b[39m>\u001b[39m \u001b[39m2\u001b[39m, \u001b[39m\"\u001b[39m\u001b[39m睡眠时间不足\u001b[39m\u001b[39m\"\u001b[39m\n\u001b[1;32m     <a href='vscode-notebook-cell:/Users/wangzefeng/GitControled/PythonLearning/AsyncIO.ipynb#Y323sZmlsZQ%3D%3D?line=9'>10</a>\u001b[0m \u001b[39mprint\u001b[39m(\u001b[39m'\u001b[39m\u001b[39m         hard working...\u001b[39m\u001b[39m'\u001b[39m)\n\u001b[1;32m     <a href='vscode-notebook-cell:/Users/wangzefeng/GitControled/PythonLearning/AsyncIO.ipynb#Y323sZmlsZQ%3D%3D?line=10'>11</a>\u001b[0m \u001b[39mreturn\u001b[39;00m \u001b[39m123\u001b[39m\n",
      "\u001b[0;31mAssertionError\u001b[0m: 睡眠时间不足"
     ]
    }
   ],
   "source": [
    "from time import sleep\n",
    "import time\n",
    "\n",
    "\n",
    "def small_step():\n",
    "    print('         have a rest, come back soon')\n",
    "    t1 = time.time()\n",
    "    yield sleep,2\n",
    "    assert time.time() - t1 > 2, \"睡眠时间不足\"\n",
    "    print('         hard working...')\n",
    "    return 123\n",
    "\n",
    "one_task()"
   ]
  },
  {
   "cell_type": "code",
   "execution_count": 7,
   "metadata": {},
   "outputs": [],
   "source": [
    "def big_step():\n",
    "    ...     # other steps\n",
    "    print(f'        begin small_step:')\n",
    "\n",
    "    # small_result = small_step()     # <---\n",
    "    small_coro = small_step()\n",
    "    while True:\n",
    "        try:\n",
    "            x = small_coro.send(None)\n",
    "        except StopIteration as e:\n",
    "            small_result = e.value\n",
    "            break\n",
    "        else:\n",
    "            yield x\n",
    "\n",
    "    print(f'        end small_step with {small_result}')\n",
    "    ...     # other steps\n",
    "    return small_result * 1000\n",
    "\n"
   ]
  },
  {
   "cell_type": "code",
   "execution_count": 8,
   "metadata": {},
   "outputs": [
    {
     "name": "stdout",
     "output_type": "stream",
     "text": [
      "begin task\n",
      "    begin big_step:\n",
      "    end big_step with <generator object big_step at 0x10deab220>\n",
      "end task\n"
     ]
    }
   ],
   "source": [
    "\n",
    "one_task()"
   ]
  },
  {
   "cell_type": "code",
   "execution_count": 9,
   "metadata": {},
   "outputs": [],
   "source": [
    "def one_task():\n",
    "    \"\"\"一个任务\"\"\"\n",
    "    print(f'begin task')\n",
    "    ...     # other steps\n",
    "    print(f'    begin big_step:')\n",
    "\n",
    "    # big_result = big_step()     # <---\n",
    "    big_coro = big_step()\n",
    "\n",
    "    while True:\n",
    "        try:\n",
    "            x = big_coro.send(None)\n",
    "        except StopIteration as e:\n",
    "            big_result = e.value\n",
    "            break\n",
    "        else:\n",
    "            func, arg = x\n",
    "            func(arg)\n",
    "\n",
    "    print(f'    end big_step with {big_result}')\n",
    "    ...     # other steps\n",
    "\n",
    "    print(f'end task')\n"
   ]
  },
  {
   "cell_type": "code",
   "execution_count": 10,
   "metadata": {},
   "outputs": [
    {
     "name": "stdout",
     "output_type": "stream",
     "text": [
      "begin task\n",
      "    begin big_step:\n",
      "        begin small_step:\n",
      "         have a rest, come back soon\n",
      "         hard working...\n",
      "        end small_step with 123\n",
      "    end big_step with 123000\n",
      "end task\n"
     ]
    }
   ],
   "source": [
    "\n",
    "one_task()"
   ]
  },
  {
   "cell_type": "markdown",
   "metadata": {},
   "source": [
    "**阶段总结1**\n",
    "- 协程白己并不能消除阻塞\n",
    "- 协程具有传染性\n",
    "- 协程通过 `yield` 把阻塞换个方式传递给了上游\n",
    "- 最终阻銮仍然斋要被解决"
   ]
  },
  {
   "cell_type": "markdown",
   "metadata": {},
   "source": [
    "**`yield from`来帮忙**"
   ]
  },
  {
   "cell_type": "code",
   "execution_count": 11,
   "metadata": {},
   "outputs": [],
   "source": [
    "def big_step():\n",
    "    ...     # other steps\n",
    "    print(f'        begin small_step:')\n",
    "\n",
    "    small_result = yield from small_step()\n",
    "\n",
    "    print(f'        end small_step with {small_result}')\n",
    "\n",
    "    ...     # other steps\n",
    "    return small_result * 1000\n",
    "\n"
   ]
  },
  {
   "cell_type": "code",
   "execution_count": 12,
   "metadata": {},
   "outputs": [
    {
     "name": "stdout",
     "output_type": "stream",
     "text": [
      "begin task\n",
      "    begin big_step:\n",
      "        begin small_step:\n",
      "         have a rest, come back soon\n",
      "         hard working...\n",
      "        end small_step with 123\n",
      "    end big_step with 123000\n",
      "end task\n"
     ]
    }
   ],
   "source": [
    "one_task()"
   ]
  },
  {
   "cell_type": "markdown",
   "metadata": {},
   "source": [
    "**阶段总结2**\n",
    "\n",
    "为了方便讨论：\n",
    "\n",
    "我们将最未端的遇到阳寒而不得不主动 vield 的协程称之为「主动协程\n",
    "\n",
    "中间接受到下游的传导而不得不跟随者 yield 的协程称之为「被动协程」\n",
    "- 「主动协程|是最先出栈的位置\n",
    "- 「被动协程」可能有很多层\n",
    "- `yield from` 大大简化了「被动协程」的编码"
   ]
  },
  {
   "cell_type": "markdown",
   "metadata": {},
   "source": [
    "**`yield from`一统江湖**"
   ]
  },
  {
   "cell_type": "code",
   "execution_count": 16,
   "metadata": {},
   "outputs": [],
   "source": [
    "from time import sleep\n",
    "import time\n",
    "\n",
    "\n",
    "def small_step():\n",
    "    print('         have a rest, come back soon')\n",
    "    t1 = time.time()\n",
    "    yield from YieldFromaAble((sleep,2))\n",
    "    assert time.time() - t1 > 2, \"睡眠时间不足\"\n",
    "    print('         hard working...')\n",
    "    return 123\n"
   ]
  },
  {
   "cell_type": "code",
   "execution_count": 15,
   "metadata": {},
   "outputs": [],
   "source": [
    "class YieldFromaAble:\n",
    "    def __init__(self, obj) -> None:\n",
    "        self.value = obj\n",
    "\n",
    "    def __iter__(self):\n",
    "        yield self.value\n"
   ]
  },
  {
   "cell_type": "code",
   "execution_count": 17,
   "metadata": {},
   "outputs": [
    {
     "name": "stdout",
     "output_type": "stream",
     "text": [
      "begin task\n",
      "    begin big_step:\n",
      "        begin small_step:\n",
      "         have a rest, come back soon\n",
      "         hard working...\n",
      "        end small_step with 123\n",
      "    end big_step with 123000\n",
      "end task\n"
     ]
    }
   ],
   "source": [
    "one_task()\n"
   ]
  },
  {
   "cell_type": "markdown",
   "metadata": {},
   "source": [
    "**阶段总结3**\n",
    "\n",
    "通过一个`YieldFromable`对象，将最末端的`yield`进行封装，把协程的调用方式统一成了`yield from`。"
   ]
  },
  {
   "cell_type": "markdown",
   "metadata": {},
   "source": [
    "**将任务彻底协程化**"
   ]
  },
  {
   "cell_type": "code",
   "execution_count": 18,
   "metadata": {},
   "outputs": [],
   "source": [
    "def one_task():\n",
    "    \"\"\"一个任务\"\"\"\n",
    "    print(f'begin task')\n",
    "    ...     # other steps\n",
    "    print(f'    begin big_step:')\n",
    "\n",
    "    big_result = yield from big_step()\n",
    "\n",
    "    print(f'    end big_step with {big_result}')\n",
    "    ...     # other steps\n",
    "\n",
    "    print(f'end task')\n"
   ]
  },
  {
   "cell_type": "code",
   "execution_count": 19,
   "metadata": {},
   "outputs": [
    {
     "data": {
      "text/plain": [
       "<generator object one_task at 0x10e156570>"
      ]
     },
     "execution_count": 19,
     "metadata": {},
     "output_type": "execute_result"
    }
   ],
   "source": [
    "one_task()"
   ]
  },
  {
   "cell_type": "markdown",
   "metadata": {},
   "source": [
    "**一个通用的任务驱动器**"
   ]
  },
  {
   "cell_type": "code",
   "execution_count": 22,
   "metadata": {},
   "outputs": [],
   "source": [
    "class YieldFromaAble:\n",
    "    def __init__(self, obj) -> None:\n",
    "        self.value = obj\n",
    "\n",
    "    def __iter__(self):\n",
    "        yield self\n"
   ]
  },
  {
   "cell_type": "code",
   "execution_count": 25,
   "metadata": {},
   "outputs": [],
   "source": [
    "class Task:\n",
    "    def __init__(self, coro) -> None:\n",
    "        self.coro = coro\n",
    "\n",
    "    def run(self):\n",
    "        print('----------')\n",
    "        while True:\n",
    "            try:\n",
    "                x = self.coro.send(None)\n",
    "            except StopIteration as e:\n",
    "                result = e.value\n",
    "                break\n",
    "            else:\n",
    "                assert isinstance(x, YieldFromaAble)\n",
    "                func, arg = x.value\n",
    "                func(arg)\n",
    "        print('----------')"
   ]
  },
  {
   "cell_type": "code",
   "execution_count": 26,
   "metadata": {},
   "outputs": [
    {
     "name": "stdout",
     "output_type": "stream",
     "text": [
      "----------\n",
      "begin task\n",
      "    begin big_step:\n",
      "        begin small_step:\n",
      "         have a rest, come back soon\n",
      "         hard working...\n",
      "        end small_step with 123\n",
      "    end big_step with 123000\n",
      "end task\n",
      "----------\n"
     ]
    }
   ],
   "source": [
    "t = Task(one_task())\n",
    "t.run()"
   ]
  },
  {
   "cell_type": "markdown",
   "metadata": {},
   "source": [
    "**完成了整个任务的协程化改造**"
   ]
  },
  {
   "cell_type": "code",
   "execution_count": 27,
   "metadata": {},
   "outputs": [],
   "source": [
    "def one_task():\n",
    "    \"\"\"一个任务\"\"\"\n",
    "    print(f'begin task')\n",
    "    ...     # other steps\n",
    "    print(f'    begin big_step:')\n",
    "\n",
    "    big_result = yield from big_step()\n",
    "\n",
    "    print(f'    end big_step with {big_result}')\n",
    "    ...     # other steps\n",
    "\n",
    "    print(f'end task')\n"
   ]
  },
  {
   "cell_type": "code",
   "execution_count": 28,
   "metadata": {},
   "outputs": [],
   "source": [
    "def big_step():\n",
    "    ...     # other steps\n",
    "    print(f'        begin small_step:')\n",
    "\n",
    "    small_result = yield from small_step()\n",
    "\n",
    "    print(f'        end small_step with {small_result}')\n",
    "\n",
    "    ...     # other steps\n",
    "    return small_result * 1000\n",
    "\n"
   ]
  },
  {
   "cell_type": "code",
   "execution_count": 29,
   "metadata": {},
   "outputs": [],
   "source": [
    "from time import sleep\n",
    "import time\n",
    "\n",
    "\n",
    "def small_step():\n",
    "    print('         have a rest, come back soon')\n",
    "    t1 = time.time()\n",
    "    yield from YieldFromaAble((sleep,2))\n",
    "    assert time.time() - t1 > 2, \"睡眠时间不足\"\n",
    "    print('         hard working...')\n",
    "    return 123\n"
   ]
  },
  {
   "cell_type": "code",
   "execution_count": 30,
   "metadata": {},
   "outputs": [
    {
     "name": "stdout",
     "output_type": "stream",
     "text": [
      "----------\n",
      "begin task\n",
      "    begin big_step:\n",
      "        begin small_step:\n",
      "         have a rest, come back soon\n",
      "         hard working...\n",
      "        end small_step with 123\n",
      "    end big_step with 123000\n",
      "end task\n",
      "----------\n"
     ]
    }
   ],
   "source": [
    "t = Task(one_task())\n",
    "t.run()"
   ]
  },
  {
   "cell_type": "code",
   "execution_count": null,
   "metadata": {},
   "outputs": [],
   "source": []
  }
 ],
 "metadata": {
  "kernelspec": {
   "display_name": "Python 3.10.6 ('ML')",
   "language": "python",
   "name": "python3"
  },
  "language_info": {
   "codemirror_mode": {
    "name": "ipython",
    "version": 3
   },
   "file_extension": ".py",
   "mimetype": "text/x-python",
   "name": "python",
   "nbconvert_exporter": "python",
   "pygments_lexer": "ipython3",
   "version": "3.10.6"
  },
  "orig_nbformat": 4,
  "vscode": {
   "interpreter": {
    "hash": "c7800c1602e804119a7845c43c657b7c86d037f3d695d8e15bda7bb1bd4c01f9"
   }
  }
 },
 "nbformat": 4,
 "nbformat_minor": 2
}
