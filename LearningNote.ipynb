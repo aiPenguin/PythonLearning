{
 "cells": [
  {
   "cell_type": "markdown",
   "metadata": {},
   "source": [
    "# Python Library"
   ]
  },
  {
   "cell_type": "markdown",
   "metadata": {},
   "source": [
    "## Library `collections`"
   ]
  },
  {
   "cell_type": "code",
   "execution_count": null,
   "metadata": {},
   "outputs": [],
   "source": [
    "import collections\n",
    "\n",
    "ex = collections.namedtuple()\n",
    "ex = collections.Counter()\n",
    "ex = collections.ChainMap()\n",
    "ex = collections.deque()\n",
    "ex = collections.defaultdict()\n",
    "ex = collections.OrderedDict()\n",
    "ex = collections.UserDict()\n",
    "ex = collections.UserList()\n",
    "ex = collections.UserString()\n"
   ]
  },
  {
   "cell_type": "code",
   "execution_count": null,
   "metadata": {},
   "outputs": [],
   "source": [
    "import collections\n",
    "\n",
    "Card = collections.namedtuple('Card', ['rank', 'suit'])\n",
    "\n",
    "class FrenchDeck:\n",
    "    ranks = [str(n) for n in range(2, 11)] + list('JQKA')\n",
    "    suits = 'spades diamonds clubs hearts'.split()\n",
    "\n",
    "    def __init__(self):\n",
    "        self._cards = [Card(rank, suit) for suit in self.suits for rank in self.ranks]  # 类间共用变量用 self.att 访问\n",
    "\n",
    "    def __len__(self):\n",
    "        return len(self._cards)\n",
    "\n",
    "    def __getitem__(self, position):\n",
    "        return self._cards[position]"
   ]
  },
  {
   "cell_type": "markdown",
   "metadata": {},
   "source": [
    "### `namedtuple` vs `dict`\n",
    "In `dict`s, only the keys have to be hashable, not the values. `namedtuple`s don't have keys, so hashability isn't an issue.\n",
    "\n",
    "However, they have a more stringent restriction -- their key-equivalents, \"field names\", have to be strings.\n",
    "\n",
    "Basically, if you were going to create a bunch of instances of a class like:\n",
    "\n",
    "```python\n",
    "class Container:\n",
    "    def __init__(self, name, date, foo, bar):\n",
    "        self.name = name\n",
    "        self.date = date\n",
    "        self.foo = foo\n",
    "        self.bar = bar\n",
    "```\n",
    "\n",
    "```python\n",
    "mycontainer = Container(name, date, foo, bar)\n",
    "```\n",
    "and **not change the attributes after you set them in `__init__`**, you could instead use\n",
    "```python\n",
    "Container = namedtuple('Container', ['name', 'date', 'foo', 'bar'])\n",
    "mycontainer = Container(name, date, foo, bar)\n",
    "```\n",
    "as a replacement.\n",
    "\n",
    "Of course, you could create a bunch of `dicts` where you used the same keys in each one, but assuming you will have only valid Python identifiers as keys and don't need mutability,\n",
    "```python\n",
    "mynamedtuple.fieldname\n",
    "```\n",
    "is prettier than\n",
    "```python\n",
    "mydict['fieldname']\n",
    "```\n",
    "and\n",
    "```python\n",
    "mynamedtuple = MyNamedTuple(firstvalue, secondvalue)\n",
    "```\n",
    "is prettier than\n",
    "```py\n",
    "mydict = {'fieldname': firstvalue, 'secondfield': secondvalue}\n",
    "```\n",
    "Finally, namedtuples are ordered, unlike regular dicts, so you get the items in the order you defined the fields, unlike a dict."
   ]
  },
  {
   "cell_type": "markdown",
   "metadata": {},
   "source": [
    "# Note"
   ]
  },
  {
   "cell_type": "markdown",
   "metadata": {},
   "source": [
    "## 从序列中随机抽取一个元素"
   ]
  },
  {
   "cell_type": "code",
   "execution_count": null,
   "metadata": {},
   "outputs": [
    {
     "data": {
      "text/plain": [
       "Card(rank='A', suit='diamonds')"
      ]
     },
     "metadata": {},
     "output_type": "display_data"
    }
   ],
   "source": [
    "# 从序列中随机抽取一个元素\n",
    "# NBVAL_IGNORE_OUTPUT\n",
    "from random import choice\n",
    "\n",
    "choice(deck)"
   ]
  },
  {
   "cell_type": "markdown",
   "metadata": {},
   "source": [
    "## 没有定义 `__contain__` 就遍历找"
   ]
  },
  {
   "cell_type": "code",
   "execution_count": null,
   "metadata": {},
   "outputs": [
    {
     "data": {
      "text/plain": [
       "True"
      ]
     },
     "metadata": {},
     "output_type": "display_data"
    }
   ],
   "source": [
    "Card('Q', 'hearts') in deck # 没有定义 __contain__ 就遍历找"
   ]
  },
  {
   "cell_type": "markdown",
   "metadata": {},
   "source": [
    "## `__iter__()` vs `__getitem__()`\n",
    "\n",
    "In a `for` loop, if loopped class has no `__iter__()` method but `__getitem__()`, then in every loop an item is getted, otherwise it will go into `__iter__()` and `__netx()__` method."
   ]
  },
  {
   "cell_type": "markdown",
   "metadata": {},
   "source": [
    "# Tuples\n",
    "## Summary\n",
    "\n",
    "Tuples tend to perform better than lists in almost every category:\n",
    "\n",
    "- Tuples can be constant folded.\n",
    "- Tuples can be reused instead of copied.\n",
    "- Tuples are compact and don't over-allocate.\n",
    "- Tuples directly reference their elements.\n",
    "\n",
    "## Tuples do not need to be copied\n",
    "\n",
    "Running `tuple(some_tuple)` returns immediately itself. Since tuples are immutable, they do not have to be copied:\n",
    "```py\n",
    ">>> a = (10, 20, 30)\n",
    ">>> b = tuple(a)\n",
    ">>> a is b\n",
    "True\n",
    "```\n",
    "In contrast, `list(some_list)` requires all the data to be copied to a new list:\n",
    "```py\n",
    ">>> a = [10, 20, 30]\n",
    ">>> b = list(a)\n",
    ">>> a is b\n",
    "False\n",
    "```"
   ]
  }
 ],
 "metadata": {
  "kernelspec": {
   "display_name": "Python 3.9.6 64-bit",
   "language": "python",
   "name": "python3"
  },
  "language_info": {
   "name": "python",
   "version": "3.9.6"
  },
  "orig_nbformat": 4,
  "vscode": {
   "interpreter": {
    "hash": "31f2aee4e71d21fbe5cf8b01ff0e069b9275f58929596ceb00d14d90e3e16cd6"
   }
  }
 },
 "nbformat": 4,
 "nbformat_minor": 2
}
